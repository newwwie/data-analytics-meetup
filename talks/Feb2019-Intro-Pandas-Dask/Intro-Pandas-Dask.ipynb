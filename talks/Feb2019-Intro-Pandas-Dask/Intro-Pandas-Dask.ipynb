{
 "cells": [
  {
   "cell_type": "markdown",
   "metadata": {
    "slideshow": {
     "slide_type": "slide"
    }
   },
   "source": [
    "# Intro to Pandas and Dask\n",
    "### Analyse easily  your data in Pandas and scale up with Dask"
   ]
  },
  {
   "cell_type": "markdown",
   "metadata": {
    "slideshow": {
     "slide_type": "slide"
    }
   },
   "source": [
    "## Agenda"
   ]
  },
  {
   "cell_type": "markdown",
   "metadata": {
    "slideshow": {
     "slide_type": "fragment"
    }
   },
   "source": [
    "### Basics of Pandas\n",
    "* Pandas data structures\n",
    "* Pandas operations\n",
    "* Example: CSV file"
   ]
  },
  {
   "cell_type": "markdown",
   "metadata": {
    "slideshow": {
     "slide_type": "fragment"
    }
   },
   "source": [
    "### Basics of Dask\n",
    "* Dask data structures\n",
    "* Dask Functions\n",
    "* Example: read mutliple CSVs\n",
    "* Example: read huge data (out of RAM ?)"
   ]
  },
  {
   "cell_type": "markdown",
   "metadata": {
    "slideshow": {
     "slide_type": "slide"
    }
   },
   "source": [
    "## Objectives"
   ]
  },
  {
   "cell_type": "markdown",
   "metadata": {
    "slideshow": {
     "slide_type": "fragment"
    }
   },
   "source": [
    "### Learn the basics of Pandas\n",
    "* DataFrame & Series\n",
    "* Read & Write a CSV\n",
    "* Explore data (data stats and plot)"
   ]
  },
  {
   "cell_type": "markdown",
   "metadata": {
    "slideshow": {
     "slide_type": "fragment"
    }
   },
   "source": [
    "### Learn the basics of Dask\n",
    "* Dask data structures\n",
    "* lazy delayed functions\n",
    "* Dask DataFrame\n",
    "* Cluster (Scheduler + Workers)"
   ]
  },
  {
   "cell_type": "markdown",
   "metadata": {
    "slideshow": {
     "slide_type": "slide"
    }
   },
   "source": [
    "## Pandas basic data structures"
   ]
  },
  {
   "cell_type": "markdown",
   "metadata": {
    "slideshow": {
     "slide_type": "notes"
    }
   },
   "source": [
    "dive straight into an example and then exaplain the structure"
   ]
  },
  {
   "cell_type": "markdown",
   "metadata": {
    "slideshow": {
     "slide_type": "subslide"
    }
   },
   "source": [
    "Let's generate some random data"
   ]
  },
  {
   "cell_type": "code",
   "execution_count": 1,
   "metadata": {
    "slideshow": {
     "slide_type": "fragment"
    }
   },
   "outputs": [],
   "source": [
    "import pandas as pd\n",
    "import numpy as np"
   ]
  },
  {
   "cell_type": "code",
   "execution_count": 2,
   "metadata": {
    "slideshow": {
     "slide_type": "fragment"
    }
   },
   "outputs": [
    {
     "data": {
      "text/plain": [
       "array([[0.74654724, 0.99788419, 0.86591949, 0.41695469, 0.8725506 ],\n",
       "       [0.87068064, 0.66459727, 0.44992557, 0.26986815, 0.25715698],\n",
       "       [0.11855892, 0.69057913, 0.65974659, 0.12228396, 0.35230689],\n",
       "       [0.83246491, 0.41042833, 0.83468465, 0.67801725, 0.13328298],\n",
       "       [0.63107085, 0.11166736, 0.3768215 , 0.5050874 , 0.50397578],\n",
       "       [0.09142064, 0.41563447, 0.01123665, 0.42177774, 0.53645722],\n",
       "       [0.8964898 , 0.61909905, 0.64485439, 0.45374511, 0.30419314],\n",
       "       [0.82762957, 0.60506176, 0.22260624, 0.33932104, 0.30457279],\n",
       "       [0.55414776, 0.92551271, 0.07917241, 0.22934229, 0.70126891],\n",
       "       [0.00580176, 0.56441064, 0.71657418, 0.52606646, 0.70951076],\n",
       "       [0.67113566, 0.94523831, 0.90580676, 0.38760335, 0.11510539],\n",
       "       [0.85258045, 0.12584943, 0.73929132, 0.92034466, 0.21199683],\n",
       "       [0.38914323, 0.59220176, 0.62593959, 0.86293186, 0.42646922],\n",
       "       [0.74097959, 0.88157047, 0.87566306, 0.7656533 , 0.23863027],\n",
       "       [0.42049234, 0.12083495, 0.32566926, 0.47149077, 0.34035174],\n",
       "       [0.52870272, 0.00633558, 0.12556568, 0.18618851, 0.41448756],\n",
       "       [0.61062216, 0.29760803, 0.00862084, 0.53641755, 0.8564989 ],\n",
       "       [0.25812633, 0.96961641, 0.07731801, 0.21635111, 0.84722557],\n",
       "       [0.33071185, 0.35090036, 0.327098  , 0.57970003, 0.61337432],\n",
       "       [0.48223904, 0.81554126, 0.50015113, 0.72287942, 0.41454022]])"
      ]
     },
     "execution_count": 2,
     "metadata": {},
     "output_type": "execute_result"
    }
   ],
   "source": [
    "np.random.seed(493982)\n",
    "data = np.random.rand(20, 5)\n",
    "data"
   ]
  },
  {
   "cell_type": "markdown",
   "metadata": {
    "slideshow": {
     "slide_type": "slide"
    }
   },
   "source": [
    "### *The Series*"
   ]
  },
  {
   "cell_type": "code",
   "execution_count": 3,
   "metadata": {
    "slideshow": {
     "slide_type": "fragment"
    }
   },
   "outputs": [
    {
     "data": {
      "text/plain": [
       "0    0.746547\n",
       "1    0.997884\n",
       "2    0.865919\n",
       "3    0.416955\n",
       "4    0.872551\n",
       "dtype: float64"
      ]
     },
     "execution_count": 3,
     "metadata": {},
     "output_type": "execute_result"
    }
   ],
   "source": [
    "ser = pd.Series(data[0])\n",
    "ser"
   ]
  },
  {
   "cell_type": "markdown",
   "metadata": {
    "slideshow": {
     "slide_type": "subslide"
    }
   },
   "source": [
    "### *The DataFrame*"
   ]
  },
  {
   "cell_type": "code",
   "execution_count": 4,
   "metadata": {
    "slideshow": {
     "slide_type": "fragment"
    }
   },
   "outputs": [
    {
     "data": {
      "text/html": [
       "<div>\n",
       "<style scoped>\n",
       "    .dataframe tbody tr th:only-of-type {\n",
       "        vertical-align: middle;\n",
       "    }\n",
       "\n",
       "    .dataframe tbody tr th {\n",
       "        vertical-align: top;\n",
       "    }\n",
       "\n",
       "    .dataframe thead th {\n",
       "        text-align: right;\n",
       "    }\n",
       "</style>\n",
       "<table border=\"1\" class=\"dataframe\">\n",
       "  <thead>\n",
       "    <tr style=\"text-align: right;\">\n",
       "      <th></th>\n",
       "      <th>0</th>\n",
       "      <th>1</th>\n",
       "      <th>2</th>\n",
       "      <th>3</th>\n",
       "      <th>4</th>\n",
       "    </tr>\n",
       "  </thead>\n",
       "  <tbody>\n",
       "    <tr>\n",
       "      <th>0</th>\n",
       "      <td>0.746547</td>\n",
       "      <td>0.997884</td>\n",
       "      <td>0.865919</td>\n",
       "      <td>0.416955</td>\n",
       "      <td>0.872551</td>\n",
       "    </tr>\n",
       "    <tr>\n",
       "      <th>1</th>\n",
       "      <td>0.870681</td>\n",
       "      <td>0.664597</td>\n",
       "      <td>0.449926</td>\n",
       "      <td>0.269868</td>\n",
       "      <td>0.257157</td>\n",
       "    </tr>\n",
       "    <tr>\n",
       "      <th>2</th>\n",
       "      <td>0.118559</td>\n",
       "      <td>0.690579</td>\n",
       "      <td>0.659747</td>\n",
       "      <td>0.122284</td>\n",
       "      <td>0.352307</td>\n",
       "    </tr>\n",
       "    <tr>\n",
       "      <th>3</th>\n",
       "      <td>0.832465</td>\n",
       "      <td>0.410428</td>\n",
       "      <td>0.834685</td>\n",
       "      <td>0.678017</td>\n",
       "      <td>0.133283</td>\n",
       "    </tr>\n",
       "    <tr>\n",
       "      <th>4</th>\n",
       "      <td>0.631071</td>\n",
       "      <td>0.111667</td>\n",
       "      <td>0.376822</td>\n",
       "      <td>0.505087</td>\n",
       "      <td>0.503976</td>\n",
       "    </tr>\n",
       "    <tr>\n",
       "      <th>5</th>\n",
       "      <td>0.091421</td>\n",
       "      <td>0.415634</td>\n",
       "      <td>0.011237</td>\n",
       "      <td>0.421778</td>\n",
       "      <td>0.536457</td>\n",
       "    </tr>\n",
       "    <tr>\n",
       "      <th>6</th>\n",
       "      <td>0.896490</td>\n",
       "      <td>0.619099</td>\n",
       "      <td>0.644854</td>\n",
       "      <td>0.453745</td>\n",
       "      <td>0.304193</td>\n",
       "    </tr>\n",
       "    <tr>\n",
       "      <th>7</th>\n",
       "      <td>0.827630</td>\n",
       "      <td>0.605062</td>\n",
       "      <td>0.222606</td>\n",
       "      <td>0.339321</td>\n",
       "      <td>0.304573</td>\n",
       "    </tr>\n",
       "    <tr>\n",
       "      <th>8</th>\n",
       "      <td>0.554148</td>\n",
       "      <td>0.925513</td>\n",
       "      <td>0.079172</td>\n",
       "      <td>0.229342</td>\n",
       "      <td>0.701269</td>\n",
       "    </tr>\n",
       "    <tr>\n",
       "      <th>9</th>\n",
       "      <td>0.005802</td>\n",
       "      <td>0.564411</td>\n",
       "      <td>0.716574</td>\n",
       "      <td>0.526066</td>\n",
       "      <td>0.709511</td>\n",
       "    </tr>\n",
       "    <tr>\n",
       "      <th>10</th>\n",
       "      <td>0.671136</td>\n",
       "      <td>0.945238</td>\n",
       "      <td>0.905807</td>\n",
       "      <td>0.387603</td>\n",
       "      <td>0.115105</td>\n",
       "    </tr>\n",
       "    <tr>\n",
       "      <th>11</th>\n",
       "      <td>0.852580</td>\n",
       "      <td>0.125849</td>\n",
       "      <td>0.739291</td>\n",
       "      <td>0.920345</td>\n",
       "      <td>0.211997</td>\n",
       "    </tr>\n",
       "    <tr>\n",
       "      <th>12</th>\n",
       "      <td>0.389143</td>\n",
       "      <td>0.592202</td>\n",
       "      <td>0.625940</td>\n",
       "      <td>0.862932</td>\n",
       "      <td>0.426469</td>\n",
       "    </tr>\n",
       "    <tr>\n",
       "      <th>13</th>\n",
       "      <td>0.740980</td>\n",
       "      <td>0.881570</td>\n",
       "      <td>0.875663</td>\n",
       "      <td>0.765653</td>\n",
       "      <td>0.238630</td>\n",
       "    </tr>\n",
       "    <tr>\n",
       "      <th>14</th>\n",
       "      <td>0.420492</td>\n",
       "      <td>0.120835</td>\n",
       "      <td>0.325669</td>\n",
       "      <td>0.471491</td>\n",
       "      <td>0.340352</td>\n",
       "    </tr>\n",
       "    <tr>\n",
       "      <th>15</th>\n",
       "      <td>0.528703</td>\n",
       "      <td>0.006336</td>\n",
       "      <td>0.125566</td>\n",
       "      <td>0.186189</td>\n",
       "      <td>0.414488</td>\n",
       "    </tr>\n",
       "    <tr>\n",
       "      <th>16</th>\n",
       "      <td>0.610622</td>\n",
       "      <td>0.297608</td>\n",
       "      <td>0.008621</td>\n",
       "      <td>0.536418</td>\n",
       "      <td>0.856499</td>\n",
       "    </tr>\n",
       "    <tr>\n",
       "      <th>17</th>\n",
       "      <td>0.258126</td>\n",
       "      <td>0.969616</td>\n",
       "      <td>0.077318</td>\n",
       "      <td>0.216351</td>\n",
       "      <td>0.847226</td>\n",
       "    </tr>\n",
       "    <tr>\n",
       "      <th>18</th>\n",
       "      <td>0.330712</td>\n",
       "      <td>0.350900</td>\n",
       "      <td>0.327098</td>\n",
       "      <td>0.579700</td>\n",
       "      <td>0.613374</td>\n",
       "    </tr>\n",
       "    <tr>\n",
       "      <th>19</th>\n",
       "      <td>0.482239</td>\n",
       "      <td>0.815541</td>\n",
       "      <td>0.500151</td>\n",
       "      <td>0.722879</td>\n",
       "      <td>0.414540</td>\n",
       "    </tr>\n",
       "  </tbody>\n",
       "</table>\n",
       "</div>"
      ],
      "text/plain": [
       "           0         1         2         3         4\n",
       "0   0.746547  0.997884  0.865919  0.416955  0.872551\n",
       "1   0.870681  0.664597  0.449926  0.269868  0.257157\n",
       "2   0.118559  0.690579  0.659747  0.122284  0.352307\n",
       "3   0.832465  0.410428  0.834685  0.678017  0.133283\n",
       "4   0.631071  0.111667  0.376822  0.505087  0.503976\n",
       "5   0.091421  0.415634  0.011237  0.421778  0.536457\n",
       "6   0.896490  0.619099  0.644854  0.453745  0.304193\n",
       "7   0.827630  0.605062  0.222606  0.339321  0.304573\n",
       "8   0.554148  0.925513  0.079172  0.229342  0.701269\n",
       "9   0.005802  0.564411  0.716574  0.526066  0.709511\n",
       "10  0.671136  0.945238  0.905807  0.387603  0.115105\n",
       "11  0.852580  0.125849  0.739291  0.920345  0.211997\n",
       "12  0.389143  0.592202  0.625940  0.862932  0.426469\n",
       "13  0.740980  0.881570  0.875663  0.765653  0.238630\n",
       "14  0.420492  0.120835  0.325669  0.471491  0.340352\n",
       "15  0.528703  0.006336  0.125566  0.186189  0.414488\n",
       "16  0.610622  0.297608  0.008621  0.536418  0.856499\n",
       "17  0.258126  0.969616  0.077318  0.216351  0.847226\n",
       "18  0.330712  0.350900  0.327098  0.579700  0.613374\n",
       "19  0.482239  0.815541  0.500151  0.722879  0.414540"
      ]
     },
     "execution_count": 4,
     "metadata": {},
     "output_type": "execute_result"
    }
   ],
   "source": [
    "df = pd.DataFrame(data)\n",
    "df"
   ]
  },
  {
   "cell_type": "markdown",
   "metadata": {
    "slideshow": {
     "slide_type": "slide"
    }
   },
   "source": [
    "## Pandas Operations"
   ]
  },
  {
   "cell_type": "markdown",
   "metadata": {
    "slideshow": {
     "slide_type": "fragment"
    }
   },
   "source": [
    "* Accessing Dataframe elements\n",
    "* Manipulate Columns and Index\n",
    "* Selection"
   ]
  },
  {
   "cell_type": "markdown",
   "metadata": {
    "slideshow": {
     "slide_type": "subslide"
    }
   },
   "source": [
    "Display top elements"
   ]
  },
  {
   "cell_type": "code",
   "execution_count": 5,
   "metadata": {
    "slideshow": {
     "slide_type": "fragment"
    }
   },
   "outputs": [
    {
     "data": {
      "text/html": [
       "<div>\n",
       "<style scoped>\n",
       "    .dataframe tbody tr th:only-of-type {\n",
       "        vertical-align: middle;\n",
       "    }\n",
       "\n",
       "    .dataframe tbody tr th {\n",
       "        vertical-align: top;\n",
       "    }\n",
       "\n",
       "    .dataframe thead th {\n",
       "        text-align: right;\n",
       "    }\n",
       "</style>\n",
       "<table border=\"1\" class=\"dataframe\">\n",
       "  <thead>\n",
       "    <tr style=\"text-align: right;\">\n",
       "      <th></th>\n",
       "      <th>0</th>\n",
       "      <th>1</th>\n",
       "      <th>2</th>\n",
       "      <th>3</th>\n",
       "      <th>4</th>\n",
       "    </tr>\n",
       "  </thead>\n",
       "  <tbody>\n",
       "    <tr>\n",
       "      <th>0</th>\n",
       "      <td>0.746547</td>\n",
       "      <td>0.997884</td>\n",
       "      <td>0.865919</td>\n",
       "      <td>0.416955</td>\n",
       "      <td>0.872551</td>\n",
       "    </tr>\n",
       "    <tr>\n",
       "      <th>1</th>\n",
       "      <td>0.870681</td>\n",
       "      <td>0.664597</td>\n",
       "      <td>0.449926</td>\n",
       "      <td>0.269868</td>\n",
       "      <td>0.257157</td>\n",
       "    </tr>\n",
       "    <tr>\n",
       "      <th>2</th>\n",
       "      <td>0.118559</td>\n",
       "      <td>0.690579</td>\n",
       "      <td>0.659747</td>\n",
       "      <td>0.122284</td>\n",
       "      <td>0.352307</td>\n",
       "    </tr>\n",
       "    <tr>\n",
       "      <th>3</th>\n",
       "      <td>0.832465</td>\n",
       "      <td>0.410428</td>\n",
       "      <td>0.834685</td>\n",
       "      <td>0.678017</td>\n",
       "      <td>0.133283</td>\n",
       "    </tr>\n",
       "    <tr>\n",
       "      <th>4</th>\n",
       "      <td>0.631071</td>\n",
       "      <td>0.111667</td>\n",
       "      <td>0.376822</td>\n",
       "      <td>0.505087</td>\n",
       "      <td>0.503976</td>\n",
       "    </tr>\n",
       "  </tbody>\n",
       "</table>\n",
       "</div>"
      ],
      "text/plain": [
       "          0         1         2         3         4\n",
       "0  0.746547  0.997884  0.865919  0.416955  0.872551\n",
       "1  0.870681  0.664597  0.449926  0.269868  0.257157\n",
       "2  0.118559  0.690579  0.659747  0.122284  0.352307\n",
       "3  0.832465  0.410428  0.834685  0.678017  0.133283\n",
       "4  0.631071  0.111667  0.376822  0.505087  0.503976"
      ]
     },
     "execution_count": 5,
     "metadata": {},
     "output_type": "execute_result"
    }
   ],
   "source": [
    "df.head()"
   ]
  },
  {
   "cell_type": "markdown",
   "metadata": {
    "slideshow": {
     "slide_type": "fragment"
    }
   },
   "source": [
    "Display elements in the last **2** rows"
   ]
  },
  {
   "cell_type": "code",
   "execution_count": 6,
   "metadata": {
    "slideshow": {
     "slide_type": "fragment"
    }
   },
   "outputs": [
    {
     "data": {
      "text/html": [
       "<div>\n",
       "<style scoped>\n",
       "    .dataframe tbody tr th:only-of-type {\n",
       "        vertical-align: middle;\n",
       "    }\n",
       "\n",
       "    .dataframe tbody tr th {\n",
       "        vertical-align: top;\n",
       "    }\n",
       "\n",
       "    .dataframe thead th {\n",
       "        text-align: right;\n",
       "    }\n",
       "</style>\n",
       "<table border=\"1\" class=\"dataframe\">\n",
       "  <thead>\n",
       "    <tr style=\"text-align: right;\">\n",
       "      <th></th>\n",
       "      <th>0</th>\n",
       "      <th>1</th>\n",
       "      <th>2</th>\n",
       "      <th>3</th>\n",
       "      <th>4</th>\n",
       "    </tr>\n",
       "  </thead>\n",
       "  <tbody>\n",
       "    <tr>\n",
       "      <th>18</th>\n",
       "      <td>0.330712</td>\n",
       "      <td>0.350900</td>\n",
       "      <td>0.327098</td>\n",
       "      <td>0.579700</td>\n",
       "      <td>0.613374</td>\n",
       "    </tr>\n",
       "    <tr>\n",
       "      <th>19</th>\n",
       "      <td>0.482239</td>\n",
       "      <td>0.815541</td>\n",
       "      <td>0.500151</td>\n",
       "      <td>0.722879</td>\n",
       "      <td>0.414540</td>\n",
       "    </tr>\n",
       "  </tbody>\n",
       "</table>\n",
       "</div>"
      ],
      "text/plain": [
       "           0         1         2         3         4\n",
       "18  0.330712  0.350900  0.327098  0.579700  0.613374\n",
       "19  0.482239  0.815541  0.500151  0.722879  0.414540"
      ]
     },
     "execution_count": 6,
     "metadata": {},
     "output_type": "execute_result"
    }
   ],
   "source": [
    "df.tail(2)"
   ]
  },
  {
   "cell_type": "markdown",
   "metadata": {
    "slideshow": {
     "slide_type": "subslide"
    }
   },
   "source": [
    "Assign names to columns and index"
   ]
  },
  {
   "cell_type": "code",
   "execution_count": 7,
   "metadata": {
    "slideshow": {
     "slide_type": "fragment"
    }
   },
   "outputs": [
    {
     "data": {
      "text/html": [
       "<div>\n",
       "<style scoped>\n",
       "    .dataframe tbody tr th:only-of-type {\n",
       "        vertical-align: middle;\n",
       "    }\n",
       "\n",
       "    .dataframe tbody tr th {\n",
       "        vertical-align: top;\n",
       "    }\n",
       "\n",
       "    .dataframe thead th {\n",
       "        text-align: right;\n",
       "    }\n",
       "</style>\n",
       "<table border=\"1\" class=\"dataframe\">\n",
       "  <thead>\n",
       "    <tr style=\"text-align: right;\">\n",
       "      <th></th>\n",
       "      <th>col0</th>\n",
       "      <th>col1</th>\n",
       "      <th>col2</th>\n",
       "      <th>col3</th>\n",
       "      <th>col4</th>\n",
       "    </tr>\n",
       "  </thead>\n",
       "  <tbody>\n",
       "    <tr>\n",
       "      <th>0</th>\n",
       "      <td>0.746547</td>\n",
       "      <td>0.997884</td>\n",
       "      <td>0.865919</td>\n",
       "      <td>0.416955</td>\n",
       "      <td>0.872551</td>\n",
       "    </tr>\n",
       "    <tr>\n",
       "      <th>1</th>\n",
       "      <td>0.870681</td>\n",
       "      <td>0.664597</td>\n",
       "      <td>0.449926</td>\n",
       "      <td>0.269868</td>\n",
       "      <td>0.257157</td>\n",
       "    </tr>\n",
       "    <tr>\n",
       "      <th>2</th>\n",
       "      <td>0.118559</td>\n",
       "      <td>0.690579</td>\n",
       "      <td>0.659747</td>\n",
       "      <td>0.122284</td>\n",
       "      <td>0.352307</td>\n",
       "    </tr>\n",
       "    <tr>\n",
       "      <th>3</th>\n",
       "      <td>0.832465</td>\n",
       "      <td>0.410428</td>\n",
       "      <td>0.834685</td>\n",
       "      <td>0.678017</td>\n",
       "      <td>0.133283</td>\n",
       "    </tr>\n",
       "    <tr>\n",
       "      <th>4</th>\n",
       "      <td>0.631071</td>\n",
       "      <td>0.111667</td>\n",
       "      <td>0.376822</td>\n",
       "      <td>0.505087</td>\n",
       "      <td>0.503976</td>\n",
       "    </tr>\n",
       "  </tbody>\n",
       "</table>\n",
       "</div>"
      ],
      "text/plain": [
       "       col0      col1      col2      col3      col4\n",
       "0  0.746547  0.997884  0.865919  0.416955  0.872551\n",
       "1  0.870681  0.664597  0.449926  0.269868  0.257157\n",
       "2  0.118559  0.690579  0.659747  0.122284  0.352307\n",
       "3  0.832465  0.410428  0.834685  0.678017  0.133283\n",
       "4  0.631071  0.111667  0.376822  0.505087  0.503976"
      ]
     },
     "execution_count": 7,
     "metadata": {},
     "output_type": "execute_result"
    }
   ],
   "source": [
    "df.columns = ['col' + str(x) for x in range(len(df.columns))]\n",
    "df.head()"
   ]
  },
  {
   "cell_type": "code",
   "execution_count": 8,
   "metadata": {
    "slideshow": {
     "slide_type": "fragment"
    }
   },
   "outputs": [],
   "source": [
    "df.index.name = 'my-idx'"
   ]
  },
  {
   "cell_type": "code",
   "execution_count": 9,
   "metadata": {
    "slideshow": {
     "slide_type": "fragment"
    }
   },
   "outputs": [
    {
     "data": {
      "text/html": [
       "<div>\n",
       "<style scoped>\n",
       "    .dataframe tbody tr th:only-of-type {\n",
       "        vertical-align: middle;\n",
       "    }\n",
       "\n",
       "    .dataframe tbody tr th {\n",
       "        vertical-align: top;\n",
       "    }\n",
       "\n",
       "    .dataframe thead th {\n",
       "        text-align: right;\n",
       "    }\n",
       "</style>\n",
       "<table border=\"1\" class=\"dataframe\">\n",
       "  <thead>\n",
       "    <tr style=\"text-align: right;\">\n",
       "      <th></th>\n",
       "      <th>col0</th>\n",
       "      <th>col1</th>\n",
       "      <th>col2</th>\n",
       "      <th>col3</th>\n",
       "      <th>col4</th>\n",
       "    </tr>\n",
       "    <tr>\n",
       "      <th>my-idx</th>\n",
       "      <th></th>\n",
       "      <th></th>\n",
       "      <th></th>\n",
       "      <th></th>\n",
       "      <th></th>\n",
       "    </tr>\n",
       "  </thead>\n",
       "  <tbody>\n",
       "    <tr>\n",
       "      <th>0</th>\n",
       "      <td>0.746547</td>\n",
       "      <td>0.997884</td>\n",
       "      <td>0.865919</td>\n",
       "      <td>0.416955</td>\n",
       "      <td>0.872551</td>\n",
       "    </tr>\n",
       "    <tr>\n",
       "      <th>1</th>\n",
       "      <td>0.870681</td>\n",
       "      <td>0.664597</td>\n",
       "      <td>0.449926</td>\n",
       "      <td>0.269868</td>\n",
       "      <td>0.257157</td>\n",
       "    </tr>\n",
       "    <tr>\n",
       "      <th>2</th>\n",
       "      <td>0.118559</td>\n",
       "      <td>0.690579</td>\n",
       "      <td>0.659747</td>\n",
       "      <td>0.122284</td>\n",
       "      <td>0.352307</td>\n",
       "    </tr>\n",
       "    <tr>\n",
       "      <th>3</th>\n",
       "      <td>0.832465</td>\n",
       "      <td>0.410428</td>\n",
       "      <td>0.834685</td>\n",
       "      <td>0.678017</td>\n",
       "      <td>0.133283</td>\n",
       "    </tr>\n",
       "    <tr>\n",
       "      <th>4</th>\n",
       "      <td>0.631071</td>\n",
       "      <td>0.111667</td>\n",
       "      <td>0.376822</td>\n",
       "      <td>0.505087</td>\n",
       "      <td>0.503976</td>\n",
       "    </tr>\n",
       "  </tbody>\n",
       "</table>\n",
       "</div>"
      ],
      "text/plain": [
       "            col0      col1      col2      col3      col4\n",
       "my-idx                                                  \n",
       "0       0.746547  0.997884  0.865919  0.416955  0.872551\n",
       "1       0.870681  0.664597  0.449926  0.269868  0.257157\n",
       "2       0.118559  0.690579  0.659747  0.122284  0.352307\n",
       "3       0.832465  0.410428  0.834685  0.678017  0.133283\n",
       "4       0.631071  0.111667  0.376822  0.505087  0.503976"
      ]
     },
     "execution_count": 9,
     "metadata": {},
     "output_type": "execute_result"
    }
   ],
   "source": [
    "df.head()"
   ]
  },
  {
   "cell_type": "markdown",
   "metadata": {
    "slideshow": {
     "slide_type": "subslide"
    }
   },
   "source": [
    "Let's inspect the index"
   ]
  },
  {
   "cell_type": "code",
   "execution_count": 10,
   "metadata": {
    "slideshow": {
     "slide_type": "fragment"
    }
   },
   "outputs": [
    {
     "data": {
      "text/plain": [
       "RangeIndex(start=0, stop=20, step=1, name='my-idx')"
      ]
     },
     "execution_count": 10,
     "metadata": {},
     "output_type": "execute_result"
    }
   ],
   "source": [
    "df.index"
   ]
  },
  {
   "cell_type": "markdown",
   "metadata": {
    "slideshow": {
     "slide_type": "fragment"
    }
   },
   "source": [
    "And the columns"
   ]
  },
  {
   "cell_type": "code",
   "execution_count": 11,
   "metadata": {
    "slideshow": {
     "slide_type": "fragment"
    }
   },
   "outputs": [
    {
     "data": {
      "text/plain": [
       "Index(['col0', 'col1', 'col2', 'col3', 'col4'], dtype='object')"
      ]
     },
     "execution_count": 11,
     "metadata": {},
     "output_type": "execute_result"
    }
   ],
   "source": [
    "df.columns"
   ]
  },
  {
   "cell_type": "markdown",
   "metadata": {
    "slideshow": {
     "slide_type": "subslide"
    }
   },
   "source": [
    "Select one column"
   ]
  },
  {
   "cell_type": "code",
   "execution_count": 12,
   "metadata": {
    "slideshow": {
     "slide_type": "fragment"
    }
   },
   "outputs": [
    {
     "data": {
      "text/plain": [
       "my-idx\n",
       "0     0.746547\n",
       "1     0.870681\n",
       "2     0.118559\n",
       "3     0.832465\n",
       "4     0.631071\n",
       "5     0.091421\n",
       "6     0.896490\n",
       "7     0.827630\n",
       "8     0.554148\n",
       "9     0.005802\n",
       "10    0.671136\n",
       "11    0.852580\n",
       "12    0.389143\n",
       "13    0.740980\n",
       "14    0.420492\n",
       "15    0.528703\n",
       "16    0.610622\n",
       "17    0.258126\n",
       "18    0.330712\n",
       "19    0.482239\n",
       "Name: col0, dtype: float64"
      ]
     },
     "execution_count": 12,
     "metadata": {},
     "output_type": "execute_result"
    }
   ],
   "source": [
    "df['col0']"
   ]
  },
  {
   "cell_type": "markdown",
   "metadata": {
    "slideshow": {
     "slide_type": "subslide"
    }
   },
   "source": [
    "Select multiple columns and display only top elements"
   ]
  },
  {
   "cell_type": "code",
   "execution_count": 13,
   "metadata": {
    "slideshow": {
     "slide_type": "fragment"
    }
   },
   "outputs": [
    {
     "data": {
      "text/html": [
       "<div>\n",
       "<style scoped>\n",
       "    .dataframe tbody tr th:only-of-type {\n",
       "        vertical-align: middle;\n",
       "    }\n",
       "\n",
       "    .dataframe tbody tr th {\n",
       "        vertical-align: top;\n",
       "    }\n",
       "\n",
       "    .dataframe thead th {\n",
       "        text-align: right;\n",
       "    }\n",
       "</style>\n",
       "<table border=\"1\" class=\"dataframe\">\n",
       "  <thead>\n",
       "    <tr style=\"text-align: right;\">\n",
       "      <th></th>\n",
       "      <th>col0</th>\n",
       "      <th>col3</th>\n",
       "    </tr>\n",
       "    <tr>\n",
       "      <th>my-idx</th>\n",
       "      <th></th>\n",
       "      <th></th>\n",
       "    </tr>\n",
       "  </thead>\n",
       "  <tbody>\n",
       "    <tr>\n",
       "      <th>0</th>\n",
       "      <td>0.746547</td>\n",
       "      <td>0.416955</td>\n",
       "    </tr>\n",
       "    <tr>\n",
       "      <th>1</th>\n",
       "      <td>0.870681</td>\n",
       "      <td>0.269868</td>\n",
       "    </tr>\n",
       "    <tr>\n",
       "      <th>2</th>\n",
       "      <td>0.118559</td>\n",
       "      <td>0.122284</td>\n",
       "    </tr>\n",
       "    <tr>\n",
       "      <th>3</th>\n",
       "      <td>0.832465</td>\n",
       "      <td>0.678017</td>\n",
       "    </tr>\n",
       "    <tr>\n",
       "      <th>4</th>\n",
       "      <td>0.631071</td>\n",
       "      <td>0.505087</td>\n",
       "    </tr>\n",
       "  </tbody>\n",
       "</table>\n",
       "</div>"
      ],
      "text/plain": [
       "            col0      col3\n",
       "my-idx                    \n",
       "0       0.746547  0.416955\n",
       "1       0.870681  0.269868\n",
       "2       0.118559  0.122284\n",
       "3       0.832465  0.678017\n",
       "4       0.631071  0.505087"
      ]
     },
     "execution_count": 13,
     "metadata": {},
     "output_type": "execute_result"
    }
   ],
   "source": [
    "df[['col0','col3']].head()"
   ]
  },
  {
   "cell_type": "markdown",
   "metadata": {
    "slideshow": {
     "slide_type": "subslide"
    }
   },
   "source": [
    "Advanced selection"
   ]
  },
  {
   "cell_type": "code",
   "execution_count": 14,
   "metadata": {
    "slideshow": {
     "slide_type": "fragment"
    }
   },
   "outputs": [
    {
     "data": {
      "text/html": [
       "<div>\n",
       "<style scoped>\n",
       "    .dataframe tbody tr th:only-of-type {\n",
       "        vertical-align: middle;\n",
       "    }\n",
       "\n",
       "    .dataframe tbody tr th {\n",
       "        vertical-align: top;\n",
       "    }\n",
       "\n",
       "    .dataframe thead th {\n",
       "        text-align: right;\n",
       "    }\n",
       "</style>\n",
       "<table border=\"1\" class=\"dataframe\">\n",
       "  <thead>\n",
       "    <tr style=\"text-align: right;\">\n",
       "      <th></th>\n",
       "      <th>col0</th>\n",
       "      <th>col3</th>\n",
       "    </tr>\n",
       "    <tr>\n",
       "      <th>my-idx</th>\n",
       "      <th></th>\n",
       "      <th></th>\n",
       "    </tr>\n",
       "  </thead>\n",
       "  <tbody>\n",
       "    <tr>\n",
       "      <th>0</th>\n",
       "      <td>0.746547</td>\n",
       "      <td>0.416955</td>\n",
       "    </tr>\n",
       "    <tr>\n",
       "      <th>1</th>\n",
       "      <td>0.870681</td>\n",
       "      <td>0.269868</td>\n",
       "    </tr>\n",
       "    <tr>\n",
       "      <th>3</th>\n",
       "      <td>0.832465</td>\n",
       "      <td>0.678017</td>\n",
       "    </tr>\n",
       "  </tbody>\n",
       "</table>\n",
       "</div>"
      ],
      "text/plain": [
       "            col0      col3\n",
       "my-idx                    \n",
       "0       0.746547  0.416955\n",
       "1       0.870681  0.269868\n",
       "3       0.832465  0.678017"
      ]
     },
     "execution_count": 14,
     "metadata": {},
     "output_type": "execute_result"
    }
   ],
   "source": [
    "df = df[['col0','col3']].head()\n",
    "df.loc[df['col0'] > 0.7, :]"
   ]
  },
  {
   "cell_type": "markdown",
   "metadata": {
    "slideshow": {
     "slide_type": "fragment"
    }
   },
   "source": [
    "#### Explanation\n",
    "`.loc` = Select\n",
    "\n",
    "`dfnew.loc[df['col0'] > 0.7, :]`\n",
    "\n",
    "Select `WHERE col0 > 0.7`\n",
    "\n",
    "In fact `df['col0'] > 0.7`"
   ]
  },
  {
   "cell_type": "code",
   "execution_count": 15,
   "metadata": {
    "slideshow": {
     "slide_type": "fragment"
    }
   },
   "outputs": [
    {
     "data": {
      "text/plain": [
       "my-idx\n",
       "0     True\n",
       "1     True\n",
       "2    False\n",
       "3     True\n",
       "4    False\n",
       "Name: col0, dtype: bool"
      ]
     },
     "execution_count": 15,
     "metadata": {},
     "output_type": "execute_result"
    }
   ],
   "source": [
    "df['col0'] > 0.7"
   ]
  },
  {
   "cell_type": "markdown",
   "metadata": {
    "slideshow": {
     "slide_type": "slide"
    }
   },
   "source": [
    "## Example: Loading a CSV and analyse the time series\n",
    "Example-CSV-time-series.ipynb"
   ]
  },
  {
   "cell_type": "markdown",
   "metadata": {
    "slideshow": {
     "slide_type": "slide"
    }
   },
   "source": [
    "## Pandas Recap\n",
    "* DataFrame & Series\n",
    "* Read & Write a CSV\n",
    "* Explore data (data stats and plot)"
   ]
  },
  {
   "cell_type": "markdown",
   "metadata": {
    "slideshow": {
     "slide_type": "slide"
    }
   },
   "source": [
    "# Dask"
   ]
  },
  {
   "cell_type": "markdown",
   "metadata": {
    "slideshow": {
     "slide_type": "fragment"
    }
   },
   "source": [
    "> \"Dask is a flexible parallel computing library for analytic computing written in Python\"\n",
    "\n",
    "Another Spark/Hadoop?"
   ]
  },
  {
   "cell_type": "markdown",
   "metadata": {
    "slideshow": {
     "slide_type": "slide"
    }
   },
   "source": [
    "## Fundamentals\n",
    "### Parallelization with ***Delayed***"
   ]
  },
  {
   "cell_type": "markdown",
   "metadata": {
    "slideshow": {
     "slide_type": "subslide"
    }
   },
   "source": [
    "Example: Generate a list of file names with additional metadata in the name itself"
   ]
  },
  {
   "cell_type": "code",
   "execution_count": 16,
   "metadata": {
    "slideshow": {
     "slide_type": "fragment"
    }
   },
   "outputs": [],
   "source": [
    "# Remind!!! have you run the datasetup.py ?\n",
    "# Hint: from datasetup import nasa_files\n",
    "# nasa_files"
   ]
  },
  {
   "cell_type": "code",
   "execution_count": 17,
   "metadata": {
    "slideshow": {
     "slide_type": "fragment"
    }
   },
   "outputs": [],
   "source": [
    "from glob import glob\n",
    "from dateutil import parser\n",
    "from time import sleep"
   ]
  },
  {
   "cell_type": "code",
   "execution_count": 18,
   "metadata": {
    "slideshow": {
     "slide_type": "fragment"
    }
   },
   "outputs": [
    {
     "data": {
      "text/plain": [
       "['data/nasadata/Files/cloudlow18.txt',\n",
       " 'data/nasadata/Files/cloudlow51.txt',\n",
       " 'data/nasadata/Files/surftemp38.txt',\n",
       " 'data/nasadata/Files/temperature62.txt',\n",
       " 'data/nasadata/Files/cloudmid11.txt',\n",
       " 'data/nasadata/Files/surftemp19.txt',\n",
       " 'data/nasadata/Files/pressure70.txt',\n",
       " 'data/nasadata/Files/cloudmid21.txt',\n",
       " 'data/nasadata/Files/ozone32.txt',\n",
       " 'data/nasadata/Files/ozone42.txt']"
      ]
     },
     "execution_count": 18,
     "metadata": {},
     "output_type": "execute_result"
    }
   ],
   "source": [
    "fnames = glob('data/nasadata/Files/*.txt')\n",
    "fnames[:10]"
   ]
  },
  {
   "cell_type": "markdown",
   "metadata": {
    "slideshow": {
     "slide_type": "subslide"
    }
   },
   "source": [
    "Let's have a look at the first lines of one file"
   ]
  },
  {
   "cell_type": "code",
   "execution_count": 19,
   "metadata": {
    "slideshow": {
     "slide_type": "fragment"
    }
   },
   "outputs": [
    {
     "name": "stdout",
     "output_type": "stream",
     "text": [
      "             VARIABLE : Mean low cloud amount (%)\n",
      "\n",
      "             FILENAME : ISCCPMonthly_avg.nc\n",
      "\n",
      "             FILEPATH : /usr/local/fer_data/data/\n",
      "\n",
      "             SUBSET   : 24 by 24 points (LONGITUDE-LATITUDE)\n",
      "\n",
      "             TIME     : 16-JUN-1996 00:00\n",
      "\n",
      "              113.8W 111.2W 108.8W 106.2W 103.8W 101.2W 98.8W  96.2W  93.8W  91.2W  88.8W  86.2W  83.8W  81.2W  78.8W  76.2W  73.8W  71.2W  68.8W  66.2W  63.8W  61.2W  58.8W  56.2W  \n",
      "\n",
      "               27     28     29     30     31     32     33     34     35     36     37     38     39     40     41     42     43     44     45     46     47     48     49     50\n",
      "\n"
     ]
    }
   ],
   "source": [
    "with open(fnames[0],'r') as fp:\n",
    "    for counter,line in enumerate(fp):\n",
    "        print(line)\n",
    "        if counter == 6:\n",
    "            break"
   ]
  },
  {
   "cell_type": "markdown",
   "metadata": {
    "slideshow": {
     "slide_type": "fragment"
    }
   },
   "source": [
    "We need to identify the file name with the date!"
   ]
  },
  {
   "cell_type": "markdown",
   "metadata": {
    "slideshow": {
     "slide_type": "subslide"
    }
   },
   "source": [
    "Remind the Objective: enrich the file names with a date!\n",
    "\n",
    "Let's build the function that generate the file name"
   ]
  },
  {
   "cell_type": "code",
   "execution_count": 20,
   "metadata": {
    "slideshow": {
     "slide_type": "fragment"
    }
   },
   "outputs": [],
   "source": [
    "def get_date_fname(file_name):\n",
    "    try:\n",
    "        with open(file_name,'r') as f:\n",
    "            for counter, line in enumerate(f):\n",
    "                if counter == 4:\n",
    "                    # get the date str\n",
    "                    datestr = line.split(':',maxsplit=1)[-1]\n",
    "                    date = parser.parse(datestr[1:12])\n",
    "                    date = date.strftime('%Y-%m-%d')\n",
    "                    new_fname = file_name.replace('.txt','_{}.txt'.format(date))\n",
    "        return (new_fname, file_name)\n",
    "    except:\n",
    "        print('not able to retrieve the date')\n",
    "        return (None, file_name)"
   ]
  },
  {
   "cell_type": "markdown",
   "metadata": {
    "slideshow": {
     "slide_type": "subslide"
    }
   },
   "source": [
    "Let's simulate a writing function that save the file with the new name and delete the old one"
   ]
  },
  {
   "cell_type": "code",
   "execution_count": 21,
   "metadata": {
    "slideshow": {
     "slide_type": "fragment"
    }
   },
   "outputs": [],
   "source": [
    "def save_newname(names):\n",
    "    new, old = names\n",
    "    # save new file\n",
    "    # ...\n",
    "    # delete old file\n",
    "    # ...\n",
    "    sleep(0.5)\n",
    "    return new"
   ]
  },
  {
   "cell_type": "markdown",
   "metadata": {
    "slideshow": {
     "slide_type": "subslide"
    }
   },
   "source": [
    "Let's run it with Pandas"
   ]
  },
  {
   "cell_type": "code",
   "execution_count": 22,
   "metadata": {
    "slideshow": {
     "slide_type": "fragment"
    }
   },
   "outputs": [
    {
     "name": "stdout",
     "output_type": "stream",
     "text": [
      "['data/nasadata/Files/cloudlow18_1996-06-16.txt', 'data/nasadata/Files/cloudlow51_1999-03-16.txt', 'data/nasadata/Files/surftemp38_1998-02-16.txt', 'data/nasadata/Files/temperature62_2000-02-16.txt', 'data/nasadata/Files/cloudmid11_1995-11-16.txt']\n",
      "504\n",
      "CPU times: user 419 ms, sys: 45.3 ms, total: 465 ms\n",
      "Wall time: 4min 12s\n"
     ]
    }
   ],
   "source": [
    "%%time\n",
    "final_names = []\n",
    "for name in fnames:\n",
    "    temp_names = get_date_fname(name)\n",
    "    out_name = save_newname(temp_names)\n",
    "    final_names.append(out_name)\n",
    "print(final_names[:5])\n",
    "print(len(final_names))"
   ]
  },
  {
   "cell_type": "markdown",
   "metadata": {
    "slideshow": {
     "slide_type": "slide"
    }
   },
   "source": [
    "Let's try with Dask using _\"Delayed\"_ "
   ]
  },
  {
   "cell_type": "code",
   "execution_count": 23,
   "metadata": {
    "slideshow": {
     "slide_type": "fragment"
    }
   },
   "outputs": [],
   "source": [
    "import warnings\n",
    "warnings.filterwarnings('ignore')\n",
    "from dask import delayed"
   ]
  },
  {
   "cell_type": "code",
   "execution_count": 24,
   "metadata": {
    "slideshow": {
     "slide_type": "fragment"
    }
   },
   "outputs": [
    {
     "data": {
      "text/plain": [
       "Delayed('get_date_fname-755f6e42-6a8a-4dd5-adda-b7b9e67ef771')"
      ]
     },
     "execution_count": 24,
     "metadata": {},
     "output_type": "execute_result"
    }
   ],
   "source": [
    "del_get_date_fname = delayed(get_date_fname)\n",
    "del_save_newname = delayed(save_newname)\n",
    "del_get_date_fname"
   ]
  },
  {
   "cell_type": "markdown",
   "metadata": {
    "slideshow": {
     "slide_type": "subslide"
    }
   },
   "source": [
    "Let's apply the delayed function only to the first **5** elements for visualisation purposes"
   ]
  },
  {
   "cell_type": "code",
   "execution_count": 25,
   "metadata": {
    "slideshow": {
     "slide_type": "fragment"
    }
   },
   "outputs": [
    {
     "data": {
      "text/plain": [
       "[Delayed('get_date_fname-d34ad8a3-d4e6-45e2-a3b5-883a2a8896e0'),\n",
       " Delayed('get_date_fname-e4340828-b253-42e5-b3f7-b6dde0234d7c'),\n",
       " Delayed('get_date_fname-27eefbb1-5a4b-4f63-871f-ee5db063f4ff')]"
      ]
     },
     "execution_count": 25,
     "metadata": {},
     "output_type": "execute_result"
    }
   ],
   "source": [
    "del_list1 = [del_get_date_fname(x) for x in fnames[:5]]\n",
    "del_list1[:3]"
   ]
  },
  {
   "cell_type": "code",
   "execution_count": 26,
   "metadata": {
    "slideshow": {
     "slide_type": "fragment"
    }
   },
   "outputs": [
    {
     "data": {
      "text/plain": [
       "[Delayed('save_newname-056b9eec-e112-481b-a4c5-78e96a54dac8'),\n",
       " Delayed('save_newname-21886e38-7bd1-43c0-b1c8-d7a0ec9d6955')]"
      ]
     },
     "execution_count": 26,
     "metadata": {},
     "output_type": "execute_result"
    }
   ],
   "source": [
    "del_list2 = [del_save_newname(y) for y in del_list1]\n",
    "del_list2[:2]"
   ]
  },
  {
   "cell_type": "code",
   "execution_count": 27,
   "metadata": {
    "slideshow": {
     "slide_type": "subslide"
    }
   },
   "outputs": [
    {
     "data": {
      "image/png": "[encoded data removed]",
      "text/plain": [
       "<IPython.core.display.Image object>"
      ]
     },
     "execution_count": 27,
     "metadata": {},
     "output_type": "execute_result"
    }
   ],
   "source": [
    "out = delayed(list)(del_list2)\n",
    "out.visualize(filenam='presentation.png')"
   ]
  },
  {
   "cell_type": "markdown",
   "metadata": {
    "slideshow": {
     "slide_type": "subslide"
    }
   },
   "source": [
    "Let's put it all together for real"
   ]
  },
  {
   "cell_type": "code",
   "execution_count": 28,
   "metadata": {
    "slideshow": {
     "slide_type": "fragment"
    }
   },
   "outputs": [
    {
     "name": "stdout",
     "output_type": "stream",
     "text": [
      "['data/nasadata/Files/cloudlow18_1996-06-16.txt', 'data/nasadata/Files/cloudlow51_1999-03-16.txt', 'data/nasadata/Files/surftemp38_1998-02-16.txt', 'data/nasadata/Files/temperature62_2000-02-16.txt', 'data/nasadata/Files/cloudmid11_1995-11-16.txt']\n",
      "504\n",
      "CPU times: user 1.15 s, sys: 155 ms, total: 1.31 s\n",
      "Wall time: 1min 3s\n"
     ]
    }
   ],
   "source": [
    "%%time\n",
    "del_list1 = [del_get_date_fname(x) for x in fnames]\n",
    "del_list2 = [del_save_newname(y) for y in del_list1]\n",
    "out = delayed(list)(del_list2)\n",
    "final_names_dd = out.compute()\n",
    "print(final_names_dd[:5])\n",
    "print(len(final_names_dd))"
   ]
  },
  {
   "cell_type": "markdown",
   "metadata": {
    "slideshow": {
     "slide_type": "subslide"
    }
   },
   "source": [
    "Dask is designed to work on a single machine, and on a cluster with the same syntax. It performs out-of-core computing (i.e. working on larger than memory data sets) using an approach similar to Spark, by lazily constructing directed acyclic graph (DAG) of tasks and splitting them into small portions"
   ]
  },
  {
   "cell_type": "markdown",
   "metadata": {
    "slideshow": {
     "slide_type": "slide"
    }
   },
   "source": [
    "## Dask data structures"
   ]
  },
  {
   "cell_type": "markdown",
   "metadata": {
    "slideshow": {
     "slide_type": "subslide"
    }
   },
   "source": [
    "### Dask Array"
   ]
  },
  {
   "cell_type": "code",
   "execution_count": null,
   "metadata": {
    "slideshow": {
     "slide_type": "fragment"
    }
   },
   "outputs": [],
   "source": [
    "import h5py\n",
    "# Numpy\n",
    "import numpy as np\n",
    "f = h5py.File('myfile.hdf5')\n",
    "x = np.array(f['/small-data'])\n",
    "x - x.mean(axis=1)\n",
    "\n",
    "# Dask\n",
    "import dask.array as da\n",
    "x = da.from_array(f['/big-data'], chunks=(1000, 1000))\n",
    "x - x.mean(axis=1).compute()"
   ]
  },
  {
   "cell_type": "markdown",
   "metadata": {
    "slideshow": {
     "slide_type": "subslide"
    }
   },
   "source": [
    "### Dask DataFrame"
   ]
  },
  {
   "cell_type": "code",
   "execution_count": null,
   "metadata": {
    "slideshow": {
     "slide_type": "fragment"
    }
   },
   "outputs": [],
   "source": [
    "import h5py\n",
    "# Numpy\n",
    "import pandas as pd\n",
    "df = pd.read_csv('2015-01-01.csv')\n",
    "df.groupby(df.user_id).value.mean()\n",
    "\n",
    "# Dask\n",
    "import dask.dataframe as dd\n",
    "df = dd.read_csv('2015-*-*.csv')\n",
    "df.groupby(df.user_id).value.mean().compute()"
   ]
  },
  {
   "cell_type": "markdown",
   "metadata": {
    "slideshow": {
     "slide_type": "subslide"
    }
   },
   "source": [
    "### Dask Bag (for everything else)"
   ]
  },
  {
   "cell_type": "code",
   "execution_count": null,
   "metadata": {
    "slideshow": {
     "slide_type": "fragment"
    }
   },
   "outputs": [],
   "source": [
    "import json\n",
    "import dask.bag as db\n",
    "b = db.read_text('2015-*-*.json.gz').map(json.loads)"
   ]
  },
  {
   "cell_type": "markdown",
   "metadata": {
    "slideshow": {
     "slide_type": "slide"
    }
   },
   "source": [
    "## Dask Scheduler + Workers\n",
    "The computation engine "
   ]
  },
  {
   "cell_type": "markdown",
   "metadata": {
    "slideshow": {
     "slide_type": "fragment"
    }
   },
   "source": [
    "### Single machine\n",
    "* Synchronous\n",
    "* Threaded\n",
    "* Multiprocessing\n",
    "\n",
    "### Cluster\n",
    "* Distributed"
   ]
  },
  {
   "cell_type": "markdown",
   "metadata": {
    "slideshow": {
     "slide_type": "slide"
    }
   },
   "source": [
    "## Example: Pandas vs Dask multiple CSVs\n",
    "Example-Dask-multi-csvs.ipynb"
   ]
  },
  {
   "cell_type": "markdown",
   "metadata": {
    "slideshow": {
     "slide_type": "slide"
    }
   },
   "source": [
    "## Example: Dask Bag with Scheduler\n",
    "Example-Dask-bag.ipynb"
   ]
  },
  {
   "cell_type": "markdown",
   "metadata": {
    "slideshow": {
     "slide_type": "slide"
    }
   },
   "source": [
    "### Dask Recap\n",
    "* Dask data structures\n",
    "* lazy delayed functions\n",
    "* Dask DataFrame\n",
    "* Cluster (Scheduler + Workers)"
   ]
  },
  {
   "cell_type": "markdown",
   "metadata": {
    "slideshow": {
     "slide_type": "slide"
    }
   },
   "source": [
    "## Quick Tips on Dask Cluster\n",
    "* Sys Admin! Sys Admin! Sys Admin! (e.g. permissions)\n",
    "* Use a better NFS (Network File System), like S3 to write and read\n",
    "* Log everything!"
   ]
  },
  {
   "cell_type": "markdown",
   "metadata": {
    "slideshow": {
     "slide_type": "slide"
    }
   },
   "source": [
    "# Thank you!\n",
    "\n",
    "## Links\n",
    "### Creating slides using Jupyter Notebook\n",
    "https://medium.com/learning-machine-learning/present-your-data-science-projects-with-jupyter-slides-75f20735eb0f"
   ]
  }
 ],
 "metadata": {
  "celltoolbar": "Slideshow",
  "kernelspec": {
   "display_name": "Python 3",
   "language": "python",
   "name": "python3"
  },
  "language_info": {
   "codemirror_mode": {
    "name": "ipython",
    "version": 3
   },
   "file_extension": ".py",
   "mimetype": "text/x-python",
   "name": "python",
   "nbconvert_exporter": "python",
   "pygments_lexer": "ipython3",
   "version": "3.6.7"
  }
 },
 "nbformat": 4,
 "nbformat_minor": 2
}
