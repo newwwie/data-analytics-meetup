{
 "cells": [
  {
   "cell_type": "markdown",
   "metadata": {
    "slideshow": {
     "slide_type": "slide"
    }
   },
   "source": [
    "# Intro to Pandas and Dask\n",
    "### Analyse easily  your data in Pandas and scale up with Dask"
   ]
  },
  {
   "cell_type": "markdown",
   "metadata": {
    "slideshow": {
     "slide_type": "slide"
    }
   },
   "source": [
    "## Agenda\n",
    "### Basics of Pandas\n",
    "* Pandas data structures\n",
    "* Pandas operations\n",
    "* Example: CSV file\n",
    "\n",
    "### Basics of Dask\n",
    "* Dask data structures\n",
    "* Dask Functions\n",
    "* Example: read data out of RAM"
   ]
  },
  {
   "cell_type": "markdown",
   "metadata": {
    "slideshow": {
     "slide_type": "slide"
    }
   },
   "source": [
    "## Objectives\n",
    "### Learn the basics of Pandas\n",
    "* DataFrame & Series\n",
    "* Read & Write a CSV\n",
    "* Explore data (data stats and plot)\n",
    "\n",
    "### Learn the basics of Dask\n",
    "* Dask data structures\n",
    "* lazy delayed functions\n",
    "* Dask DataFrame"
   ]
  },
  {
   "cell_type": "markdown",
   "metadata": {
    "slideshow": {
     "slide_type": "slide"
    }
   },
   "source": [
    "# Pandas basic data structures"
   ]
  },
  {
   "cell_type": "markdown",
   "metadata": {
    "slideshow": {
     "slide_type": "notes"
    }
   },
   "source": [
    "dive straight into an example and then exaplain the structure"
   ]
  },
  {
   "cell_type": "code",
   "execution_count": 1,
   "metadata": {
    "slideshow": {
     "slide_type": "fragment"
    }
   },
   "outputs": [],
   "source": [
    "import pandas as pd\n",
    "import numpy as np"
   ]
  },
  {
   "cell_type": "markdown",
   "metadata": {
    "slideshow": {
     "slide_type": "fragment"
    }
   },
   "source": [
    "Let's generate some random data"
   ]
  },
  {
   "cell_type": "code",
   "execution_count": 6,
   "metadata": {
    "slideshow": {
     "slide_type": "fragment"
    }
   },
   "outputs": [
    {
     "data": {
      "text/plain": [
       "array([[0.74654724, 0.99788419, 0.86591949, 0.41695469, 0.8725506 ],\n",
       "       [0.87068064, 0.66459727, 0.44992557, 0.26986815, 0.25715698],\n",
       "       [0.11855892, 0.69057913, 0.65974659, 0.12228396, 0.35230689],\n",
       "       [0.83246491, 0.41042833, 0.83468465, 0.67801725, 0.13328298],\n",
       "       [0.63107085, 0.11166736, 0.3768215 , 0.5050874 , 0.50397578],\n",
       "       [0.09142064, 0.41563447, 0.01123665, 0.42177774, 0.53645722],\n",
       "       [0.8964898 , 0.61909905, 0.64485439, 0.45374511, 0.30419314],\n",
       "       [0.82762957, 0.60506176, 0.22260624, 0.33932104, 0.30457279],\n",
       "       [0.55414776, 0.92551271, 0.07917241, 0.22934229, 0.70126891],\n",
       "       [0.00580176, 0.56441064, 0.71657418, 0.52606646, 0.70951076],\n",
       "       [0.67113566, 0.94523831, 0.90580676, 0.38760335, 0.11510539],\n",
       "       [0.85258045, 0.12584943, 0.73929132, 0.92034466, 0.21199683],\n",
       "       [0.38914323, 0.59220176, 0.62593959, 0.86293186, 0.42646922],\n",
       "       [0.74097959, 0.88157047, 0.87566306, 0.7656533 , 0.23863027],\n",
       "       [0.42049234, 0.12083495, 0.32566926, 0.47149077, 0.34035174],\n",
       "       [0.52870272, 0.00633558, 0.12556568, 0.18618851, 0.41448756],\n",
       "       [0.61062216, 0.29760803, 0.00862084, 0.53641755, 0.8564989 ],\n",
       "       [0.25812633, 0.96961641, 0.07731801, 0.21635111, 0.84722557],\n",
       "       [0.33071185, 0.35090036, 0.327098  , 0.57970003, 0.61337432],\n",
       "       [0.48223904, 0.81554126, 0.50015113, 0.72287942, 0.41454022]])"
      ]
     },
     "execution_count": 6,
     "metadata": {},
     "output_type": "execute_result"
    }
   ],
   "source": [
    "np.random.seed(493982)\n",
    "data = np.random.rand(20, 5)\n",
    "data"
   ]
  },
  {
   "cell_type": "markdown",
   "metadata": {},
   "source": [
    "### *The Series*"
   ]
  },
  {
   "cell_type": "code",
   "execution_count": 8,
   "metadata": {},
   "outputs": [
    {
     "data": {
      "text/plain": [
       "0    0.746547\n",
       "1    0.997884\n",
       "2    0.865919\n",
       "3    0.416955\n",
       "4    0.872551\n",
       "dtype: float64"
      ]
     },
     "execution_count": 8,
     "metadata": {},
     "output_type": "execute_result"
    }
   ],
   "source": [
    "ser = pd.Series(data[0])\n",
    "ser"
   ]
  },
  {
   "cell_type": "markdown",
   "metadata": {
    "slideshow": {
     "slide_type": "subslide"
    }
   },
   "source": [
    "### *The DataFrame*"
   ]
  },
  {
   "cell_type": "code",
   "execution_count": null,
   "metadata": {
    "slideshow": {
     "slide_type": "subslide"
    }
   },
   "outputs": [],
   "source": [
    "df = pd.DataFrame(data)\n",
    "df"
   ]
  },
  {
   "cell_type": "markdown",
   "metadata": {
    "slideshow": {
     "slide_type": "slide"
    }
   },
   "source": [
    "## Pandas Operations"
   ]
  },
  {
   "cell_type": "markdown",
   "metadata": {},
   "source": [
    "* Accessing Dataframe elements\n",
    "* Manipulate Columns and Index\n",
    "* Selection"
   ]
  },
  {
   "cell_type": "code",
   "execution_count": null,
   "metadata": {
    "slideshow": {
     "slide_type": "fragment"
    }
   },
   "outputs": [],
   "source": [
    "df.head()"
   ]
  },
  {
   "cell_type": "code",
   "execution_count": null,
   "metadata": {
    "slideshow": {
     "slide_type": "fragment"
    }
   },
   "outputs": [],
   "source": [
    "df.tail(2)"
   ]
  },
  {
   "cell_type": "code",
   "execution_count": null,
   "metadata": {
    "slideshow": {
     "slide_type": "subslide"
    }
   },
   "outputs": [],
   "source": [
    "df.columns = ['col' + str(x) for x in range(len(df.columns))]\n",
    "df.head()"
   ]
  },
  {
   "cell_type": "code",
   "execution_count": null,
   "metadata": {},
   "outputs": [],
   "source": [
    "df.index.name = 'my-idx'"
   ]
  },
  {
   "cell_type": "code",
   "execution_count": null,
   "metadata": {},
   "outputs": [],
   "source": [
    "df.head()"
   ]
  },
  {
   "cell_type": "code",
   "execution_count": null,
   "metadata": {},
   "outputs": [],
   "source": [
    "df.index"
   ]
  },
  {
   "cell_type": "code",
   "execution_count": null,
   "metadata": {},
   "outputs": [],
   "source": [
    "df.columns"
   ]
  },
  {
   "cell_type": "code",
   "execution_count": null,
   "metadata": {},
   "outputs": [],
   "source": [
    "df['col0']"
   ]
  },
  {
   "cell_type": "code",
   "execution_count": null,
   "metadata": {},
   "outputs": [],
   "source": [
    "df[['col0','col3']].head()"
   ]
  },
  {
   "cell_type": "markdown",
   "metadata": {
    "slideshow": {
     "slide_type": "slide"
    }
   },
   "source": [
    "## Links\n",
    "### Create slides using Jupyter Notebook\n",
    "https://medium.com/learning-machine-learning/present-your-data-science-projects-with-jupyter-slides-75f20735eb0f"
   ]
  }
 ],
 "metadata": {
  "celltoolbar": "Slideshow",
  "kernelspec": {
   "display_name": "Python 3",
   "language": "python",
   "name": "python3"
  },
  "language_info": {
   "codemirror_mode": {
    "name": "ipython",
    "version": 3
   },
   "file_extension": ".py",
   "mimetype": "text/x-python",
   "name": "python",
   "nbconvert_exporter": "python",
   "pygments_lexer": "ipython3",
   "version": "3.6.8"
  }
 },
 "nbformat": 4,
 "nbformat_minor": 2
}
