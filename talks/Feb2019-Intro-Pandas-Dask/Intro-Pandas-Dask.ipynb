{
 "cells": [
  {
   "cell_type": "markdown",
   "metadata": {
    "slideshow": {
     "slide_type": "slide"
    }
   },
   "source": [
    "# Intro to Pandas and Dask\n",
    "### Analyse easily  your data in Pandas and scale up with Dask"
   ]
  },
  {
   "cell_type": "markdown",
   "metadata": {
    "slideshow": {
     "slide_type": "slide"
    }
   },
   "source": [
    "# Pandas basic data structure"
   ]
  },
  {
   "cell_type": "markdown",
   "metadata": {
    "slideshow": {
     "slide_type": "notes"
    }
   },
   "source": [
    "dive straight into an example and then exaplain the structure"
   ]
  },
  {
   "cell_type": "code",
   "execution_count": 1,
   "metadata": {
    "slideshow": {
     "slide_type": "fragment"
    }
   },
   "outputs": [],
   "source": [
    "import pandas as pd\n",
    "import numpy as np"
   ]
  },
  {
   "cell_type": "markdown",
   "metadata": {
    "slideshow": {
     "slide_type": "fragment"
    }
   },
   "source": [
    "Let's generate some random data"
   ]
  },
  {
   "cell_type": "code",
   "execution_count": 2,
   "metadata": {
    "slideshow": {
     "slide_type": "fragment"
    }
   },
   "outputs": [
    {
     "data": {
      "text/plain": [
       "array([[0.51893997, 0.83840345, 0.6387146 , 0.3196143 , 0.22067744],\n",
       "       [0.86434814, 0.74960173, 0.19139234, 0.43727312, 0.17821283],\n",
       "       [0.85035615, 0.5292031 , 0.27883663, 0.6166337 , 0.68994792],\n",
       "       [0.02825955, 0.36251286, 0.55611649, 0.56723501, 0.84015299],\n",
       "       [0.98417172, 0.00958562, 0.85524687, 0.49128281, 0.09314218],\n",
       "       [0.75503803, 0.50369838, 0.60984042, 0.91313163, 0.55979005],\n",
       "       [0.75892541, 0.02724103, 0.96624756, 0.66717661, 0.9154268 ],\n",
       "       [0.80198966, 0.19032395, 0.91632487, 0.65457708, 0.02756976],\n",
       "       [0.86904   , 0.4670904 , 0.55004923, 0.00267931, 0.67212465],\n",
       "       [0.37384259, 0.34927427, 0.08375822, 0.21203265, 0.78538367],\n",
       "       [0.71592455, 0.39250945, 0.70813266, 0.79687451, 0.83931636],\n",
       "       [0.73574726, 0.77937646, 0.89147135, 0.57502738, 0.56365776],\n",
       "       [0.27996936, 0.07784522, 0.64587384, 0.01235639, 0.97282895],\n",
       "       [0.62349376, 0.88955844, 0.31033275, 0.66394356, 0.78831121],\n",
       "       [0.23624751, 0.24314482, 0.66495244, 0.44608736, 0.07945292],\n",
       "       [0.69968593, 0.08407494, 0.52425616, 0.72123332, 0.51801243],\n",
       "       [0.36187934, 0.54762853, 0.49763141, 0.26308761, 0.82542924],\n",
       "       [0.44124832, 0.17414873, 0.26380902, 0.08225054, 0.69361823],\n",
       "       [0.3351826 , 0.9884756 , 0.6925797 , 0.06356038, 0.08214919],\n",
       "       [0.73584733, 0.88216953, 0.55357424, 0.31317298, 0.06587981]])"
      ]
     },
     "execution_count": 2,
     "metadata": {},
     "output_type": "execute_result"
    }
   ],
   "source": [
    "data = np.random.rand(20, 5)\n",
    "data"
   ]
  },
  {
   "cell_type": "code",
   "execution_count": 3,
   "metadata": {
    "slideshow": {
     "slide_type": "subslide"
    }
   },
   "outputs": [
    {
     "data": {
      "text/html": [
       "<div>\n",
       "<style scoped>\n",
       "    .dataframe tbody tr th:only-of-type {\n",
       "        vertical-align: middle;\n",
       "    }\n",
       "\n",
       "    .dataframe tbody tr th {\n",
       "        vertical-align: top;\n",
       "    }\n",
       "\n",
       "    .dataframe thead th {\n",
       "        text-align: right;\n",
       "    }\n",
       "</style>\n",
       "<table border=\"1\" class=\"dataframe\">\n",
       "  <thead>\n",
       "    <tr style=\"text-align: right;\">\n",
       "      <th></th>\n",
       "      <th>0</th>\n",
       "      <th>1</th>\n",
       "      <th>2</th>\n",
       "      <th>3</th>\n",
       "      <th>4</th>\n",
       "    </tr>\n",
       "  </thead>\n",
       "  <tbody>\n",
       "    <tr>\n",
       "      <th>0</th>\n",
       "      <td>0.518940</td>\n",
       "      <td>0.838403</td>\n",
       "      <td>0.638715</td>\n",
       "      <td>0.319614</td>\n",
       "      <td>0.220677</td>\n",
       "    </tr>\n",
       "    <tr>\n",
       "      <th>1</th>\n",
       "      <td>0.864348</td>\n",
       "      <td>0.749602</td>\n",
       "      <td>0.191392</td>\n",
       "      <td>0.437273</td>\n",
       "      <td>0.178213</td>\n",
       "    </tr>\n",
       "    <tr>\n",
       "      <th>2</th>\n",
       "      <td>0.850356</td>\n",
       "      <td>0.529203</td>\n",
       "      <td>0.278837</td>\n",
       "      <td>0.616634</td>\n",
       "      <td>0.689948</td>\n",
       "    </tr>\n",
       "    <tr>\n",
       "      <th>3</th>\n",
       "      <td>0.028260</td>\n",
       "      <td>0.362513</td>\n",
       "      <td>0.556116</td>\n",
       "      <td>0.567235</td>\n",
       "      <td>0.840153</td>\n",
       "    </tr>\n",
       "    <tr>\n",
       "      <th>4</th>\n",
       "      <td>0.984172</td>\n",
       "      <td>0.009586</td>\n",
       "      <td>0.855247</td>\n",
       "      <td>0.491283</td>\n",
       "      <td>0.093142</td>\n",
       "    </tr>\n",
       "    <tr>\n",
       "      <th>5</th>\n",
       "      <td>0.755038</td>\n",
       "      <td>0.503698</td>\n",
       "      <td>0.609840</td>\n",
       "      <td>0.913132</td>\n",
       "      <td>0.559790</td>\n",
       "    </tr>\n",
       "    <tr>\n",
       "      <th>6</th>\n",
       "      <td>0.758925</td>\n",
       "      <td>0.027241</td>\n",
       "      <td>0.966248</td>\n",
       "      <td>0.667177</td>\n",
       "      <td>0.915427</td>\n",
       "    </tr>\n",
       "    <tr>\n",
       "      <th>7</th>\n",
       "      <td>0.801990</td>\n",
       "      <td>0.190324</td>\n",
       "      <td>0.916325</td>\n",
       "      <td>0.654577</td>\n",
       "      <td>0.027570</td>\n",
       "    </tr>\n",
       "    <tr>\n",
       "      <th>8</th>\n",
       "      <td>0.869040</td>\n",
       "      <td>0.467090</td>\n",
       "      <td>0.550049</td>\n",
       "      <td>0.002679</td>\n",
       "      <td>0.672125</td>\n",
       "    </tr>\n",
       "    <tr>\n",
       "      <th>9</th>\n",
       "      <td>0.373843</td>\n",
       "      <td>0.349274</td>\n",
       "      <td>0.083758</td>\n",
       "      <td>0.212033</td>\n",
       "      <td>0.785384</td>\n",
       "    </tr>\n",
       "    <tr>\n",
       "      <th>10</th>\n",
       "      <td>0.715925</td>\n",
       "      <td>0.392509</td>\n",
       "      <td>0.708133</td>\n",
       "      <td>0.796875</td>\n",
       "      <td>0.839316</td>\n",
       "    </tr>\n",
       "    <tr>\n",
       "      <th>11</th>\n",
       "      <td>0.735747</td>\n",
       "      <td>0.779376</td>\n",
       "      <td>0.891471</td>\n",
       "      <td>0.575027</td>\n",
       "      <td>0.563658</td>\n",
       "    </tr>\n",
       "    <tr>\n",
       "      <th>12</th>\n",
       "      <td>0.279969</td>\n",
       "      <td>0.077845</td>\n",
       "      <td>0.645874</td>\n",
       "      <td>0.012356</td>\n",
       "      <td>0.972829</td>\n",
       "    </tr>\n",
       "    <tr>\n",
       "      <th>13</th>\n",
       "      <td>0.623494</td>\n",
       "      <td>0.889558</td>\n",
       "      <td>0.310333</td>\n",
       "      <td>0.663944</td>\n",
       "      <td>0.788311</td>\n",
       "    </tr>\n",
       "    <tr>\n",
       "      <th>14</th>\n",
       "      <td>0.236248</td>\n",
       "      <td>0.243145</td>\n",
       "      <td>0.664952</td>\n",
       "      <td>0.446087</td>\n",
       "      <td>0.079453</td>\n",
       "    </tr>\n",
       "    <tr>\n",
       "      <th>15</th>\n",
       "      <td>0.699686</td>\n",
       "      <td>0.084075</td>\n",
       "      <td>0.524256</td>\n",
       "      <td>0.721233</td>\n",
       "      <td>0.518012</td>\n",
       "    </tr>\n",
       "    <tr>\n",
       "      <th>16</th>\n",
       "      <td>0.361879</td>\n",
       "      <td>0.547629</td>\n",
       "      <td>0.497631</td>\n",
       "      <td>0.263088</td>\n",
       "      <td>0.825429</td>\n",
       "    </tr>\n",
       "    <tr>\n",
       "      <th>17</th>\n",
       "      <td>0.441248</td>\n",
       "      <td>0.174149</td>\n",
       "      <td>0.263809</td>\n",
       "      <td>0.082251</td>\n",
       "      <td>0.693618</td>\n",
       "    </tr>\n",
       "    <tr>\n",
       "      <th>18</th>\n",
       "      <td>0.335183</td>\n",
       "      <td>0.988476</td>\n",
       "      <td>0.692580</td>\n",
       "      <td>0.063560</td>\n",
       "      <td>0.082149</td>\n",
       "    </tr>\n",
       "    <tr>\n",
       "      <th>19</th>\n",
       "      <td>0.735847</td>\n",
       "      <td>0.882170</td>\n",
       "      <td>0.553574</td>\n",
       "      <td>0.313173</td>\n",
       "      <td>0.065880</td>\n",
       "    </tr>\n",
       "  </tbody>\n",
       "</table>\n",
       "</div>"
      ],
      "text/plain": [
       "           0         1         2         3         4\n",
       "0   0.518940  0.838403  0.638715  0.319614  0.220677\n",
       "1   0.864348  0.749602  0.191392  0.437273  0.178213\n",
       "2   0.850356  0.529203  0.278837  0.616634  0.689948\n",
       "3   0.028260  0.362513  0.556116  0.567235  0.840153\n",
       "4   0.984172  0.009586  0.855247  0.491283  0.093142\n",
       "5   0.755038  0.503698  0.609840  0.913132  0.559790\n",
       "6   0.758925  0.027241  0.966248  0.667177  0.915427\n",
       "7   0.801990  0.190324  0.916325  0.654577  0.027570\n",
       "8   0.869040  0.467090  0.550049  0.002679  0.672125\n",
       "9   0.373843  0.349274  0.083758  0.212033  0.785384\n",
       "10  0.715925  0.392509  0.708133  0.796875  0.839316\n",
       "11  0.735747  0.779376  0.891471  0.575027  0.563658\n",
       "12  0.279969  0.077845  0.645874  0.012356  0.972829\n",
       "13  0.623494  0.889558  0.310333  0.663944  0.788311\n",
       "14  0.236248  0.243145  0.664952  0.446087  0.079453\n",
       "15  0.699686  0.084075  0.524256  0.721233  0.518012\n",
       "16  0.361879  0.547629  0.497631  0.263088  0.825429\n",
       "17  0.441248  0.174149  0.263809  0.082251  0.693618\n",
       "18  0.335183  0.988476  0.692580  0.063560  0.082149\n",
       "19  0.735847  0.882170  0.553574  0.313173  0.065880"
      ]
     },
     "execution_count": 3,
     "metadata": {},
     "output_type": "execute_result"
    }
   ],
   "source": [
    "df = pd.DataFrame(data)\n",
    "df"
   ]
  },
  {
   "cell_type": "code",
   "execution_count": 4,
   "metadata": {
    "slideshow": {
     "slide_type": "fragment"
    }
   },
   "outputs": [
    {
     "data": {
      "text/html": [
       "<div>\n",
       "<style scoped>\n",
       "    .dataframe tbody tr th:only-of-type {\n",
       "        vertical-align: middle;\n",
       "    }\n",
       "\n",
       "    .dataframe tbody tr th {\n",
       "        vertical-align: top;\n",
       "    }\n",
       "\n",
       "    .dataframe thead th {\n",
       "        text-align: right;\n",
       "    }\n",
       "</style>\n",
       "<table border=\"1\" class=\"dataframe\">\n",
       "  <thead>\n",
       "    <tr style=\"text-align: right;\">\n",
       "      <th></th>\n",
       "      <th>0</th>\n",
       "      <th>1</th>\n",
       "      <th>2</th>\n",
       "      <th>3</th>\n",
       "      <th>4</th>\n",
       "    </tr>\n",
       "  </thead>\n",
       "  <tbody>\n",
       "    <tr>\n",
       "      <th>0</th>\n",
       "      <td>0.518940</td>\n",
       "      <td>0.838403</td>\n",
       "      <td>0.638715</td>\n",
       "      <td>0.319614</td>\n",
       "      <td>0.220677</td>\n",
       "    </tr>\n",
       "    <tr>\n",
       "      <th>1</th>\n",
       "      <td>0.864348</td>\n",
       "      <td>0.749602</td>\n",
       "      <td>0.191392</td>\n",
       "      <td>0.437273</td>\n",
       "      <td>0.178213</td>\n",
       "    </tr>\n",
       "    <tr>\n",
       "      <th>2</th>\n",
       "      <td>0.850356</td>\n",
       "      <td>0.529203</td>\n",
       "      <td>0.278837</td>\n",
       "      <td>0.616634</td>\n",
       "      <td>0.689948</td>\n",
       "    </tr>\n",
       "    <tr>\n",
       "      <th>3</th>\n",
       "      <td>0.028260</td>\n",
       "      <td>0.362513</td>\n",
       "      <td>0.556116</td>\n",
       "      <td>0.567235</td>\n",
       "      <td>0.840153</td>\n",
       "    </tr>\n",
       "    <tr>\n",
       "      <th>4</th>\n",
       "      <td>0.984172</td>\n",
       "      <td>0.009586</td>\n",
       "      <td>0.855247</td>\n",
       "      <td>0.491283</td>\n",
       "      <td>0.093142</td>\n",
       "    </tr>\n",
       "  </tbody>\n",
       "</table>\n",
       "</div>"
      ],
      "text/plain": [
       "          0         1         2         3         4\n",
       "0  0.518940  0.838403  0.638715  0.319614  0.220677\n",
       "1  0.864348  0.749602  0.191392  0.437273  0.178213\n",
       "2  0.850356  0.529203  0.278837  0.616634  0.689948\n",
       "3  0.028260  0.362513  0.556116  0.567235  0.840153\n",
       "4  0.984172  0.009586  0.855247  0.491283  0.093142"
      ]
     },
     "execution_count": 4,
     "metadata": {},
     "output_type": "execute_result"
    }
   ],
   "source": [
    "df.head()"
   ]
  },
  {
   "cell_type": "code",
   "execution_count": 5,
   "metadata": {
    "slideshow": {
     "slide_type": "fragment"
    }
   },
   "outputs": [
    {
     "data": {
      "text/html": [
       "<div>\n",
       "<style scoped>\n",
       "    .dataframe tbody tr th:only-of-type {\n",
       "        vertical-align: middle;\n",
       "    }\n",
       "\n",
       "    .dataframe tbody tr th {\n",
       "        vertical-align: top;\n",
       "    }\n",
       "\n",
       "    .dataframe thead th {\n",
       "        text-align: right;\n",
       "    }\n",
       "</style>\n",
       "<table border=\"1\" class=\"dataframe\">\n",
       "  <thead>\n",
       "    <tr style=\"text-align: right;\">\n",
       "      <th></th>\n",
       "      <th>0</th>\n",
       "      <th>1</th>\n",
       "      <th>2</th>\n",
       "      <th>3</th>\n",
       "      <th>4</th>\n",
       "    </tr>\n",
       "  </thead>\n",
       "  <tbody>\n",
       "    <tr>\n",
       "      <th>18</th>\n",
       "      <td>0.335183</td>\n",
       "      <td>0.988476</td>\n",
       "      <td>0.692580</td>\n",
       "      <td>0.063560</td>\n",
       "      <td>0.082149</td>\n",
       "    </tr>\n",
       "    <tr>\n",
       "      <th>19</th>\n",
       "      <td>0.735847</td>\n",
       "      <td>0.882170</td>\n",
       "      <td>0.553574</td>\n",
       "      <td>0.313173</td>\n",
       "      <td>0.065880</td>\n",
       "    </tr>\n",
       "  </tbody>\n",
       "</table>\n",
       "</div>"
      ],
      "text/plain": [
       "           0         1         2         3         4\n",
       "18  0.335183  0.988476  0.692580  0.063560  0.082149\n",
       "19  0.735847  0.882170  0.553574  0.313173  0.065880"
      ]
     },
     "execution_count": 5,
     "metadata": {},
     "output_type": "execute_result"
    }
   ],
   "source": [
    "df.tail(2)"
   ]
  },
  {
   "cell_type": "code",
   "execution_count": 6,
   "metadata": {
    "slideshow": {
     "slide_type": "subslide"
    }
   },
   "outputs": [
    {
     "data": {
      "text/html": [
       "<div>\n",
       "<style scoped>\n",
       "    .dataframe tbody tr th:only-of-type {\n",
       "        vertical-align: middle;\n",
       "    }\n",
       "\n",
       "    .dataframe tbody tr th {\n",
       "        vertical-align: top;\n",
       "    }\n",
       "\n",
       "    .dataframe thead th {\n",
       "        text-align: right;\n",
       "    }\n",
       "</style>\n",
       "<table border=\"1\" class=\"dataframe\">\n",
       "  <thead>\n",
       "    <tr style=\"text-align: right;\">\n",
       "      <th></th>\n",
       "      <th>col0</th>\n",
       "      <th>col1</th>\n",
       "      <th>col2</th>\n",
       "      <th>col3</th>\n",
       "      <th>col4</th>\n",
       "    </tr>\n",
       "  </thead>\n",
       "  <tbody>\n",
       "    <tr>\n",
       "      <th>0</th>\n",
       "      <td>0.518940</td>\n",
       "      <td>0.838403</td>\n",
       "      <td>0.638715</td>\n",
       "      <td>0.319614</td>\n",
       "      <td>0.220677</td>\n",
       "    </tr>\n",
       "    <tr>\n",
       "      <th>1</th>\n",
       "      <td>0.864348</td>\n",
       "      <td>0.749602</td>\n",
       "      <td>0.191392</td>\n",
       "      <td>0.437273</td>\n",
       "      <td>0.178213</td>\n",
       "    </tr>\n",
       "    <tr>\n",
       "      <th>2</th>\n",
       "      <td>0.850356</td>\n",
       "      <td>0.529203</td>\n",
       "      <td>0.278837</td>\n",
       "      <td>0.616634</td>\n",
       "      <td>0.689948</td>\n",
       "    </tr>\n",
       "    <tr>\n",
       "      <th>3</th>\n",
       "      <td>0.028260</td>\n",
       "      <td>0.362513</td>\n",
       "      <td>0.556116</td>\n",
       "      <td>0.567235</td>\n",
       "      <td>0.840153</td>\n",
       "    </tr>\n",
       "    <tr>\n",
       "      <th>4</th>\n",
       "      <td>0.984172</td>\n",
       "      <td>0.009586</td>\n",
       "      <td>0.855247</td>\n",
       "      <td>0.491283</td>\n",
       "      <td>0.093142</td>\n",
       "    </tr>\n",
       "  </tbody>\n",
       "</table>\n",
       "</div>"
      ],
      "text/plain": [
       "       col0      col1      col2      col3      col4\n",
       "0  0.518940  0.838403  0.638715  0.319614  0.220677\n",
       "1  0.864348  0.749602  0.191392  0.437273  0.178213\n",
       "2  0.850356  0.529203  0.278837  0.616634  0.689948\n",
       "3  0.028260  0.362513  0.556116  0.567235  0.840153\n",
       "4  0.984172  0.009586  0.855247  0.491283  0.093142"
      ]
     },
     "execution_count": 6,
     "metadata": {},
     "output_type": "execute_result"
    }
   ],
   "source": [
    "df.columns = ['col' + str(x) for x in range(len(df.columns))]\n",
    "df.head()"
   ]
  },
  {
   "cell_type": "code",
   "execution_count": 7,
   "metadata": {},
   "outputs": [],
   "source": [
    "df.index.name = 'my-idx'"
   ]
  },
  {
   "cell_type": "code",
   "execution_count": 8,
   "metadata": {},
   "outputs": [
    {
     "data": {
      "text/html": [
       "<div>\n",
       "<style scoped>\n",
       "    .dataframe tbody tr th:only-of-type {\n",
       "        vertical-align: middle;\n",
       "    }\n",
       "\n",
       "    .dataframe tbody tr th {\n",
       "        vertical-align: top;\n",
       "    }\n",
       "\n",
       "    .dataframe thead th {\n",
       "        text-align: right;\n",
       "    }\n",
       "</style>\n",
       "<table border=\"1\" class=\"dataframe\">\n",
       "  <thead>\n",
       "    <tr style=\"text-align: right;\">\n",
       "      <th></th>\n",
       "      <th>col0</th>\n",
       "      <th>col1</th>\n",
       "      <th>col2</th>\n",
       "      <th>col3</th>\n",
       "      <th>col4</th>\n",
       "    </tr>\n",
       "    <tr>\n",
       "      <th>my-idx</th>\n",
       "      <th></th>\n",
       "      <th></th>\n",
       "      <th></th>\n",
       "      <th></th>\n",
       "      <th></th>\n",
       "    </tr>\n",
       "  </thead>\n",
       "  <tbody>\n",
       "    <tr>\n",
       "      <th>0</th>\n",
       "      <td>0.518940</td>\n",
       "      <td>0.838403</td>\n",
       "      <td>0.638715</td>\n",
       "      <td>0.319614</td>\n",
       "      <td>0.220677</td>\n",
       "    </tr>\n",
       "    <tr>\n",
       "      <th>1</th>\n",
       "      <td>0.864348</td>\n",
       "      <td>0.749602</td>\n",
       "      <td>0.191392</td>\n",
       "      <td>0.437273</td>\n",
       "      <td>0.178213</td>\n",
       "    </tr>\n",
       "    <tr>\n",
       "      <th>2</th>\n",
       "      <td>0.850356</td>\n",
       "      <td>0.529203</td>\n",
       "      <td>0.278837</td>\n",
       "      <td>0.616634</td>\n",
       "      <td>0.689948</td>\n",
       "    </tr>\n",
       "    <tr>\n",
       "      <th>3</th>\n",
       "      <td>0.028260</td>\n",
       "      <td>0.362513</td>\n",
       "      <td>0.556116</td>\n",
       "      <td>0.567235</td>\n",
       "      <td>0.840153</td>\n",
       "    </tr>\n",
       "    <tr>\n",
       "      <th>4</th>\n",
       "      <td>0.984172</td>\n",
       "      <td>0.009586</td>\n",
       "      <td>0.855247</td>\n",
       "      <td>0.491283</td>\n",
       "      <td>0.093142</td>\n",
       "    </tr>\n",
       "  </tbody>\n",
       "</table>\n",
       "</div>"
      ],
      "text/plain": [
       "            col0      col1      col2      col3      col4\n",
       "my-idx                                                  \n",
       "0       0.518940  0.838403  0.638715  0.319614  0.220677\n",
       "1       0.864348  0.749602  0.191392  0.437273  0.178213\n",
       "2       0.850356  0.529203  0.278837  0.616634  0.689948\n",
       "3       0.028260  0.362513  0.556116  0.567235  0.840153\n",
       "4       0.984172  0.009586  0.855247  0.491283  0.093142"
      ]
     },
     "execution_count": 8,
     "metadata": {},
     "output_type": "execute_result"
    }
   ],
   "source": [
    "df.head()"
   ]
  },
  {
   "cell_type": "code",
   "execution_count": 9,
   "metadata": {},
   "outputs": [
    {
     "data": {
      "text/plain": [
       "RangeIndex(start=0, stop=20, step=1, name='my-idx')"
      ]
     },
     "execution_count": 9,
     "metadata": {},
     "output_type": "execute_result"
    }
   ],
   "source": [
    "df.index"
   ]
  },
  {
   "cell_type": "code",
   "execution_count": 10,
   "metadata": {},
   "outputs": [
    {
     "data": {
      "text/plain": [
       "Index(['col0', 'col1', 'col2', 'col3', 'col4'], dtype='object')"
      ]
     },
     "execution_count": 10,
     "metadata": {},
     "output_type": "execute_result"
    }
   ],
   "source": [
    "df.columns"
   ]
  },
  {
   "cell_type": "code",
   "execution_count": 11,
   "metadata": {},
   "outputs": [
    {
     "data": {
      "text/plain": [
       "my-idx\n",
       "0     0.518940\n",
       "1     0.864348\n",
       "2     0.850356\n",
       "3     0.028260\n",
       "4     0.984172\n",
       "5     0.755038\n",
       "6     0.758925\n",
       "7     0.801990\n",
       "8     0.869040\n",
       "9     0.373843\n",
       "10    0.715925\n",
       "11    0.735747\n",
       "12    0.279969\n",
       "13    0.623494\n",
       "14    0.236248\n",
       "15    0.699686\n",
       "16    0.361879\n",
       "17    0.441248\n",
       "18    0.335183\n",
       "19    0.735847\n",
       "Name: col0, dtype: float64"
      ]
     },
     "execution_count": 11,
     "metadata": {},
     "output_type": "execute_result"
    }
   ],
   "source": [
    "df['col0']"
   ]
  },
  {
   "cell_type": "code",
   "execution_count": 12,
   "metadata": {},
   "outputs": [
    {
     "data": {
      "text/html": [
       "<div>\n",
       "<style scoped>\n",
       "    .dataframe tbody tr th:only-of-type {\n",
       "        vertical-align: middle;\n",
       "    }\n",
       "\n",
       "    .dataframe tbody tr th {\n",
       "        vertical-align: top;\n",
       "    }\n",
       "\n",
       "    .dataframe thead th {\n",
       "        text-align: right;\n",
       "    }\n",
       "</style>\n",
       "<table border=\"1\" class=\"dataframe\">\n",
       "  <thead>\n",
       "    <tr style=\"text-align: right;\">\n",
       "      <th></th>\n",
       "      <th>col0</th>\n",
       "      <th>col3</th>\n",
       "    </tr>\n",
       "    <tr>\n",
       "      <th>my-idx</th>\n",
       "      <th></th>\n",
       "      <th></th>\n",
       "    </tr>\n",
       "  </thead>\n",
       "  <tbody>\n",
       "    <tr>\n",
       "      <th>0</th>\n",
       "      <td>0.518940</td>\n",
       "      <td>0.319614</td>\n",
       "    </tr>\n",
       "    <tr>\n",
       "      <th>1</th>\n",
       "      <td>0.864348</td>\n",
       "      <td>0.437273</td>\n",
       "    </tr>\n",
       "    <tr>\n",
       "      <th>2</th>\n",
       "      <td>0.850356</td>\n",
       "      <td>0.616634</td>\n",
       "    </tr>\n",
       "    <tr>\n",
       "      <th>3</th>\n",
       "      <td>0.028260</td>\n",
       "      <td>0.567235</td>\n",
       "    </tr>\n",
       "    <tr>\n",
       "      <th>4</th>\n",
       "      <td>0.984172</td>\n",
       "      <td>0.491283</td>\n",
       "    </tr>\n",
       "  </tbody>\n",
       "</table>\n",
       "</div>"
      ],
      "text/plain": [
       "            col0      col3\n",
       "my-idx                    \n",
       "0       0.518940  0.319614\n",
       "1       0.864348  0.437273\n",
       "2       0.850356  0.616634\n",
       "3       0.028260  0.567235\n",
       "4       0.984172  0.491283"
      ]
     },
     "execution_count": 12,
     "metadata": {},
     "output_type": "execute_result"
    }
   ],
   "source": [
    "df[['col0','col3']].head()"
   ]
  },
  {
   "cell_type": "markdown",
   "metadata": {
    "slideshow": {
     "slide_type": "fragment"
    }
   },
   "source": [
    "## Agenda\n",
    "* The basics of Pandas\n",
    "* Example: reading and analysing a CSV file\n",
    "* Example: Timeseries"
   ]
  },
  {
   "cell_type": "markdown",
   "metadata": {
    "slideshow": {
     "slide_type": "fragment"
    }
   },
   "source": [
    "## Objectives\n",
    "* "
   ]
  },
  {
   "cell_type": "markdown",
   "metadata": {
    "slideshow": {
     "slide_type": "slide"
    }
   },
   "source": [
    "## Links\n",
    "### Create slides using Jupyter Notebook\n",
    "https://medium.com/learning-machine-learning/present-your-data-science-projects-with-jupyter-slides-75f20735eb0f"
   ]
  }
 ],
 "metadata": {
  "celltoolbar": "Raw Cell Format",
  "kernelspec": {
   "display_name": "Python 3",
   "language": "python",
   "name": "python3"
  },
  "language_info": {
   "codemirror_mode": {
    "name": "ipython",
    "version": 3
   },
   "file_extension": ".py",
   "mimetype": "text/x-python",
   "name": "python",
   "nbconvert_exporter": "python",
   "pygments_lexer": "ipython3",
   "version": "3.6.8"
  }
 },
 "nbformat": 4,
 "nbformat_minor": 2
}
