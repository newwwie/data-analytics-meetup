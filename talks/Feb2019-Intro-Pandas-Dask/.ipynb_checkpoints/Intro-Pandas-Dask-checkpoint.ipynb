{
 "cells": [
  {
   "cell_type": "markdown",
   "metadata": {
    "slideshow": {
     "slide_type": "slide"
    }
   },
   "source": [
    "# Intro to Pandas and Dask\n",
    "### Analyse easily  your data in Pandas and scale up with Dask"
   ]
  },
  {
   "cell_type": "markdown",
   "metadata": {
    "slideshow": {
     "slide_type": "slide"
    }
   },
   "source": [
    "# Pandas basic data structure"
   ]
  },
  {
   "cell_type": "markdown",
   "metadata": {
    "slideshow": {
     "slide_type": "notes"
    }
   },
   "source": [
    "dive straight into an example and then exaplain the structure"
   ]
  },
  {
   "cell_type": "code",
   "execution_count": 1,
   "metadata": {
    "slideshow": {
     "slide_type": "fragment"
    }
   },
   "outputs": [],
   "source": [
    "import pandas as pd\n",
    "import numpy as np"
   ]
  },
  {
   "cell_type": "markdown",
   "metadata": {
    "slideshow": {
     "slide_type": "fragment"
    }
   },
   "source": [
    "Let's generate some random data"
   ]
  },
  {
   "cell_type": "code",
   "execution_count": 2,
   "metadata": {
    "slideshow": {
     "slide_type": "fragment"
    }
   },
   "outputs": [
    {
     "data": {
      "text/plain": [
       "array([[0.97129131, 0.50307393, 0.14119818, 0.43026332, 0.70976477],\n",
       "       [0.61622741, 0.98884973, 0.0078826 , 0.03636659, 0.83497933],\n",
       "       [0.78729217, 0.14313074, 0.00256455, 0.1124318 , 0.35421452],\n",
       "       [0.1408594 , 0.04421791, 0.54770027, 0.96451779, 0.27854834],\n",
       "       [0.26154387, 0.64851441, 0.52417532, 0.27780796, 0.807929  ],\n",
       "       [0.35373407, 0.03695687, 0.71331913, 0.1654903 , 0.04560794],\n",
       "       [0.20571546, 0.03608101, 0.10754179, 0.84111057, 0.12042065],\n",
       "       [0.68978398, 0.82991513, 0.73052784, 0.77391767, 0.75951341],\n",
       "       [0.11026125, 0.03448242, 0.78455499, 0.62875074, 0.94672988],\n",
       "       [0.82881913, 0.47781747, 0.01869456, 0.19234599, 0.28990345],\n",
       "       [0.78293897, 0.36731846, 0.48848091, 0.01316397, 0.66080286],\n",
       "       [0.52102303, 0.82248811, 0.52659882, 0.40377698, 0.08217342],\n",
       "       [0.7668296 , 0.738436  , 0.31974461, 0.38901713, 0.12767229],\n",
       "       [0.62822742, 0.55707487, 0.20662181, 0.71313354, 0.21562726],\n",
       "       [0.14308055, 0.64998611, 0.96254706, 0.29054921, 0.54168602],\n",
       "       [0.40505063, 0.79314452, 0.9097785 , 0.79511622, 0.02399627],\n",
       "       [0.89581994, 0.14050313, 0.23508787, 0.6695447 , 0.48713609],\n",
       "       [0.13198134, 0.16044588, 0.18810279, 0.11731914, 0.95084528],\n",
       "       [0.39658229, 0.09874032, 0.14576646, 0.33868082, 0.47961582],\n",
       "       [0.40012121, 0.19663126, 0.2035182 , 0.52788041, 0.43719416]])"
      ]
     },
     "execution_count": 2,
     "metadata": {},
     "output_type": "execute_result"
    }
   ],
   "source": [
    "data = np.random.rand(20, 5)\n",
    "data"
   ]
  },
  {
   "cell_type": "code",
   "execution_count": 3,
   "metadata": {
    "slideshow": {
     "slide_type": "subslide"
    }
   },
   "outputs": [
    {
     "data": {
      "text/html": [
       "<div>\n",
       "<style scoped>\n",
       "    .dataframe tbody tr th:only-of-type {\n",
       "        vertical-align: middle;\n",
       "    }\n",
       "\n",
       "    .dataframe tbody tr th {\n",
       "        vertical-align: top;\n",
       "    }\n",
       "\n",
       "    .dataframe thead th {\n",
       "        text-align: right;\n",
       "    }\n",
       "</style>\n",
       "<table border=\"1\" class=\"dataframe\">\n",
       "  <thead>\n",
       "    <tr style=\"text-align: right;\">\n",
       "      <th></th>\n",
       "      <th>0</th>\n",
       "      <th>1</th>\n",
       "      <th>2</th>\n",
       "      <th>3</th>\n",
       "      <th>4</th>\n",
       "    </tr>\n",
       "  </thead>\n",
       "  <tbody>\n",
       "    <tr>\n",
       "      <th>0</th>\n",
       "      <td>0.971291</td>\n",
       "      <td>0.503074</td>\n",
       "      <td>0.141198</td>\n",
       "      <td>0.430263</td>\n",
       "      <td>0.709765</td>\n",
       "    </tr>\n",
       "    <tr>\n",
       "      <th>1</th>\n",
       "      <td>0.616227</td>\n",
       "      <td>0.988850</td>\n",
       "      <td>0.007883</td>\n",
       "      <td>0.036367</td>\n",
       "      <td>0.834979</td>\n",
       "    </tr>\n",
       "    <tr>\n",
       "      <th>2</th>\n",
       "      <td>0.787292</td>\n",
       "      <td>0.143131</td>\n",
       "      <td>0.002565</td>\n",
       "      <td>0.112432</td>\n",
       "      <td>0.354215</td>\n",
       "    </tr>\n",
       "    <tr>\n",
       "      <th>3</th>\n",
       "      <td>0.140859</td>\n",
       "      <td>0.044218</td>\n",
       "      <td>0.547700</td>\n",
       "      <td>0.964518</td>\n",
       "      <td>0.278548</td>\n",
       "    </tr>\n",
       "    <tr>\n",
       "      <th>4</th>\n",
       "      <td>0.261544</td>\n",
       "      <td>0.648514</td>\n",
       "      <td>0.524175</td>\n",
       "      <td>0.277808</td>\n",
       "      <td>0.807929</td>\n",
       "    </tr>\n",
       "    <tr>\n",
       "      <th>5</th>\n",
       "      <td>0.353734</td>\n",
       "      <td>0.036957</td>\n",
       "      <td>0.713319</td>\n",
       "      <td>0.165490</td>\n",
       "      <td>0.045608</td>\n",
       "    </tr>\n",
       "    <tr>\n",
       "      <th>6</th>\n",
       "      <td>0.205715</td>\n",
       "      <td>0.036081</td>\n",
       "      <td>0.107542</td>\n",
       "      <td>0.841111</td>\n",
       "      <td>0.120421</td>\n",
       "    </tr>\n",
       "    <tr>\n",
       "      <th>7</th>\n",
       "      <td>0.689784</td>\n",
       "      <td>0.829915</td>\n",
       "      <td>0.730528</td>\n",
       "      <td>0.773918</td>\n",
       "      <td>0.759513</td>\n",
       "    </tr>\n",
       "    <tr>\n",
       "      <th>8</th>\n",
       "      <td>0.110261</td>\n",
       "      <td>0.034482</td>\n",
       "      <td>0.784555</td>\n",
       "      <td>0.628751</td>\n",
       "      <td>0.946730</td>\n",
       "    </tr>\n",
       "    <tr>\n",
       "      <th>9</th>\n",
       "      <td>0.828819</td>\n",
       "      <td>0.477817</td>\n",
       "      <td>0.018695</td>\n",
       "      <td>0.192346</td>\n",
       "      <td>0.289903</td>\n",
       "    </tr>\n",
       "    <tr>\n",
       "      <th>10</th>\n",
       "      <td>0.782939</td>\n",
       "      <td>0.367318</td>\n",
       "      <td>0.488481</td>\n",
       "      <td>0.013164</td>\n",
       "      <td>0.660803</td>\n",
       "    </tr>\n",
       "    <tr>\n",
       "      <th>11</th>\n",
       "      <td>0.521023</td>\n",
       "      <td>0.822488</td>\n",
       "      <td>0.526599</td>\n",
       "      <td>0.403777</td>\n",
       "      <td>0.082173</td>\n",
       "    </tr>\n",
       "    <tr>\n",
       "      <th>12</th>\n",
       "      <td>0.766830</td>\n",
       "      <td>0.738436</td>\n",
       "      <td>0.319745</td>\n",
       "      <td>0.389017</td>\n",
       "      <td>0.127672</td>\n",
       "    </tr>\n",
       "    <tr>\n",
       "      <th>13</th>\n",
       "      <td>0.628227</td>\n",
       "      <td>0.557075</td>\n",
       "      <td>0.206622</td>\n",
       "      <td>0.713134</td>\n",
       "      <td>0.215627</td>\n",
       "    </tr>\n",
       "    <tr>\n",
       "      <th>14</th>\n",
       "      <td>0.143081</td>\n",
       "      <td>0.649986</td>\n",
       "      <td>0.962547</td>\n",
       "      <td>0.290549</td>\n",
       "      <td>0.541686</td>\n",
       "    </tr>\n",
       "    <tr>\n",
       "      <th>15</th>\n",
       "      <td>0.405051</td>\n",
       "      <td>0.793145</td>\n",
       "      <td>0.909779</td>\n",
       "      <td>0.795116</td>\n",
       "      <td>0.023996</td>\n",
       "    </tr>\n",
       "    <tr>\n",
       "      <th>16</th>\n",
       "      <td>0.895820</td>\n",
       "      <td>0.140503</td>\n",
       "      <td>0.235088</td>\n",
       "      <td>0.669545</td>\n",
       "      <td>0.487136</td>\n",
       "    </tr>\n",
       "    <tr>\n",
       "      <th>17</th>\n",
       "      <td>0.131981</td>\n",
       "      <td>0.160446</td>\n",
       "      <td>0.188103</td>\n",
       "      <td>0.117319</td>\n",
       "      <td>0.950845</td>\n",
       "    </tr>\n",
       "    <tr>\n",
       "      <th>18</th>\n",
       "      <td>0.396582</td>\n",
       "      <td>0.098740</td>\n",
       "      <td>0.145766</td>\n",
       "      <td>0.338681</td>\n",
       "      <td>0.479616</td>\n",
       "    </tr>\n",
       "    <tr>\n",
       "      <th>19</th>\n",
       "      <td>0.400121</td>\n",
       "      <td>0.196631</td>\n",
       "      <td>0.203518</td>\n",
       "      <td>0.527880</td>\n",
       "      <td>0.437194</td>\n",
       "    </tr>\n",
       "  </tbody>\n",
       "</table>\n",
       "</div>"
      ],
      "text/plain": [
       "           0         1         2         3         4\n",
       "0   0.971291  0.503074  0.141198  0.430263  0.709765\n",
       "1   0.616227  0.988850  0.007883  0.036367  0.834979\n",
       "2   0.787292  0.143131  0.002565  0.112432  0.354215\n",
       "3   0.140859  0.044218  0.547700  0.964518  0.278548\n",
       "4   0.261544  0.648514  0.524175  0.277808  0.807929\n",
       "5   0.353734  0.036957  0.713319  0.165490  0.045608\n",
       "6   0.205715  0.036081  0.107542  0.841111  0.120421\n",
       "7   0.689784  0.829915  0.730528  0.773918  0.759513\n",
       "8   0.110261  0.034482  0.784555  0.628751  0.946730\n",
       "9   0.828819  0.477817  0.018695  0.192346  0.289903\n",
       "10  0.782939  0.367318  0.488481  0.013164  0.660803\n",
       "11  0.521023  0.822488  0.526599  0.403777  0.082173\n",
       "12  0.766830  0.738436  0.319745  0.389017  0.127672\n",
       "13  0.628227  0.557075  0.206622  0.713134  0.215627\n",
       "14  0.143081  0.649986  0.962547  0.290549  0.541686\n",
       "15  0.405051  0.793145  0.909779  0.795116  0.023996\n",
       "16  0.895820  0.140503  0.235088  0.669545  0.487136\n",
       "17  0.131981  0.160446  0.188103  0.117319  0.950845\n",
       "18  0.396582  0.098740  0.145766  0.338681  0.479616\n",
       "19  0.400121  0.196631  0.203518  0.527880  0.437194"
      ]
     },
     "execution_count": 3,
     "metadata": {},
     "output_type": "execute_result"
    }
   ],
   "source": [
    "df = pd.DataFrame(data)\n",
    "df"
   ]
  },
  {
   "cell_type": "code",
   "execution_count": 4,
   "metadata": {
    "slideshow": {
     "slide_type": "fragment"
    }
   },
   "outputs": [
    {
     "data": {
      "text/html": [
       "<div>\n",
       "<style scoped>\n",
       "    .dataframe tbody tr th:only-of-type {\n",
       "        vertical-align: middle;\n",
       "    }\n",
       "\n",
       "    .dataframe tbody tr th {\n",
       "        vertical-align: top;\n",
       "    }\n",
       "\n",
       "    .dataframe thead th {\n",
       "        text-align: right;\n",
       "    }\n",
       "</style>\n",
       "<table border=\"1\" class=\"dataframe\">\n",
       "  <thead>\n",
       "    <tr style=\"text-align: right;\">\n",
       "      <th></th>\n",
       "      <th>0</th>\n",
       "      <th>1</th>\n",
       "      <th>2</th>\n",
       "      <th>3</th>\n",
       "      <th>4</th>\n",
       "    </tr>\n",
       "  </thead>\n",
       "  <tbody>\n",
       "    <tr>\n",
       "      <th>0</th>\n",
       "      <td>0.971291</td>\n",
       "      <td>0.503074</td>\n",
       "      <td>0.141198</td>\n",
       "      <td>0.430263</td>\n",
       "      <td>0.709765</td>\n",
       "    </tr>\n",
       "    <tr>\n",
       "      <th>1</th>\n",
       "      <td>0.616227</td>\n",
       "      <td>0.988850</td>\n",
       "      <td>0.007883</td>\n",
       "      <td>0.036367</td>\n",
       "      <td>0.834979</td>\n",
       "    </tr>\n",
       "    <tr>\n",
       "      <th>2</th>\n",
       "      <td>0.787292</td>\n",
       "      <td>0.143131</td>\n",
       "      <td>0.002565</td>\n",
       "      <td>0.112432</td>\n",
       "      <td>0.354215</td>\n",
       "    </tr>\n",
       "    <tr>\n",
       "      <th>3</th>\n",
       "      <td>0.140859</td>\n",
       "      <td>0.044218</td>\n",
       "      <td>0.547700</td>\n",
       "      <td>0.964518</td>\n",
       "      <td>0.278548</td>\n",
       "    </tr>\n",
       "    <tr>\n",
       "      <th>4</th>\n",
       "      <td>0.261544</td>\n",
       "      <td>0.648514</td>\n",
       "      <td>0.524175</td>\n",
       "      <td>0.277808</td>\n",
       "      <td>0.807929</td>\n",
       "    </tr>\n",
       "  </tbody>\n",
       "</table>\n",
       "</div>"
      ],
      "text/plain": [
       "          0         1         2         3         4\n",
       "0  0.971291  0.503074  0.141198  0.430263  0.709765\n",
       "1  0.616227  0.988850  0.007883  0.036367  0.834979\n",
       "2  0.787292  0.143131  0.002565  0.112432  0.354215\n",
       "3  0.140859  0.044218  0.547700  0.964518  0.278548\n",
       "4  0.261544  0.648514  0.524175  0.277808  0.807929"
      ]
     },
     "execution_count": 4,
     "metadata": {},
     "output_type": "execute_result"
    }
   ],
   "source": [
    "df.head()"
   ]
  },
  {
   "cell_type": "code",
   "execution_count": 5,
   "metadata": {
    "slideshow": {
     "slide_type": "fragment"
    }
   },
   "outputs": [
    {
     "data": {
      "text/html": [
       "<div>\n",
       "<style scoped>\n",
       "    .dataframe tbody tr th:only-of-type {\n",
       "        vertical-align: middle;\n",
       "    }\n",
       "\n",
       "    .dataframe tbody tr th {\n",
       "        vertical-align: top;\n",
       "    }\n",
       "\n",
       "    .dataframe thead th {\n",
       "        text-align: right;\n",
       "    }\n",
       "</style>\n",
       "<table border=\"1\" class=\"dataframe\">\n",
       "  <thead>\n",
       "    <tr style=\"text-align: right;\">\n",
       "      <th></th>\n",
       "      <th>0</th>\n",
       "      <th>1</th>\n",
       "      <th>2</th>\n",
       "      <th>3</th>\n",
       "      <th>4</th>\n",
       "    </tr>\n",
       "  </thead>\n",
       "  <tbody>\n",
       "    <tr>\n",
       "      <th>18</th>\n",
       "      <td>0.396582</td>\n",
       "      <td>0.098740</td>\n",
       "      <td>0.145766</td>\n",
       "      <td>0.338681</td>\n",
       "      <td>0.479616</td>\n",
       "    </tr>\n",
       "    <tr>\n",
       "      <th>19</th>\n",
       "      <td>0.400121</td>\n",
       "      <td>0.196631</td>\n",
       "      <td>0.203518</td>\n",
       "      <td>0.527880</td>\n",
       "      <td>0.437194</td>\n",
       "    </tr>\n",
       "  </tbody>\n",
       "</table>\n",
       "</div>"
      ],
      "text/plain": [
       "           0         1         2         3         4\n",
       "18  0.396582  0.098740  0.145766  0.338681  0.479616\n",
       "19  0.400121  0.196631  0.203518  0.527880  0.437194"
      ]
     },
     "execution_count": 5,
     "metadata": {},
     "output_type": "execute_result"
    }
   ],
   "source": [
    "df.tail(2)"
   ]
  },
  {
   "cell_type": "code",
   "execution_count": 6,
   "metadata": {
    "slideshow": {
     "slide_type": "subslide"
    }
   },
   "outputs": [
    {
     "data": {
      "text/html": [
       "<div>\n",
       "<style scoped>\n",
       "    .dataframe tbody tr th:only-of-type {\n",
       "        vertical-align: middle;\n",
       "    }\n",
       "\n",
       "    .dataframe tbody tr th {\n",
       "        vertical-align: top;\n",
       "    }\n",
       "\n",
       "    .dataframe thead th {\n",
       "        text-align: right;\n",
       "    }\n",
       "</style>\n",
       "<table border=\"1\" class=\"dataframe\">\n",
       "  <thead>\n",
       "    <tr style=\"text-align: right;\">\n",
       "      <th></th>\n",
       "      <th>col0</th>\n",
       "      <th>col1</th>\n",
       "      <th>col2</th>\n",
       "      <th>col3</th>\n",
       "      <th>col4</th>\n",
       "    </tr>\n",
       "  </thead>\n",
       "  <tbody>\n",
       "    <tr>\n",
       "      <th>0</th>\n",
       "      <td>0.971291</td>\n",
       "      <td>0.503074</td>\n",
       "      <td>0.141198</td>\n",
       "      <td>0.430263</td>\n",
       "      <td>0.709765</td>\n",
       "    </tr>\n",
       "    <tr>\n",
       "      <th>1</th>\n",
       "      <td>0.616227</td>\n",
       "      <td>0.988850</td>\n",
       "      <td>0.007883</td>\n",
       "      <td>0.036367</td>\n",
       "      <td>0.834979</td>\n",
       "    </tr>\n",
       "    <tr>\n",
       "      <th>2</th>\n",
       "      <td>0.787292</td>\n",
       "      <td>0.143131</td>\n",
       "      <td>0.002565</td>\n",
       "      <td>0.112432</td>\n",
       "      <td>0.354215</td>\n",
       "    </tr>\n",
       "    <tr>\n",
       "      <th>3</th>\n",
       "      <td>0.140859</td>\n",
       "      <td>0.044218</td>\n",
       "      <td>0.547700</td>\n",
       "      <td>0.964518</td>\n",
       "      <td>0.278548</td>\n",
       "    </tr>\n",
       "    <tr>\n",
       "      <th>4</th>\n",
       "      <td>0.261544</td>\n",
       "      <td>0.648514</td>\n",
       "      <td>0.524175</td>\n",
       "      <td>0.277808</td>\n",
       "      <td>0.807929</td>\n",
       "    </tr>\n",
       "  </tbody>\n",
       "</table>\n",
       "</div>"
      ],
      "text/plain": [
       "       col0      col1      col2      col3      col4\n",
       "0  0.971291  0.503074  0.141198  0.430263  0.709765\n",
       "1  0.616227  0.988850  0.007883  0.036367  0.834979\n",
       "2  0.787292  0.143131  0.002565  0.112432  0.354215\n",
       "3  0.140859  0.044218  0.547700  0.964518  0.278548\n",
       "4  0.261544  0.648514  0.524175  0.277808  0.807929"
      ]
     },
     "execution_count": 6,
     "metadata": {},
     "output_type": "execute_result"
    }
   ],
   "source": [
    "df.columns = ['col' + str(x) for x in range(len(df.columns))]\n",
    "df.head()"
   ]
  },
  {
   "cell_type": "code",
   "execution_count": 7,
   "metadata": {},
   "outputs": [],
   "source": [
    "df.index.name = 'my-idx'"
   ]
  },
  {
   "cell_type": "code",
   "execution_count": 8,
   "metadata": {},
   "outputs": [
    {
     "data": {
      "text/html": [
       "<div>\n",
       "<style scoped>\n",
       "    .dataframe tbody tr th:only-of-type {\n",
       "        vertical-align: middle;\n",
       "    }\n",
       "\n",
       "    .dataframe tbody tr th {\n",
       "        vertical-align: top;\n",
       "    }\n",
       "\n",
       "    .dataframe thead th {\n",
       "        text-align: right;\n",
       "    }\n",
       "</style>\n",
       "<table border=\"1\" class=\"dataframe\">\n",
       "  <thead>\n",
       "    <tr style=\"text-align: right;\">\n",
       "      <th></th>\n",
       "      <th>col0</th>\n",
       "      <th>col1</th>\n",
       "      <th>col2</th>\n",
       "      <th>col3</th>\n",
       "      <th>col4</th>\n",
       "    </tr>\n",
       "    <tr>\n",
       "      <th>my-idx</th>\n",
       "      <th></th>\n",
       "      <th></th>\n",
       "      <th></th>\n",
       "      <th></th>\n",
       "      <th></th>\n",
       "    </tr>\n",
       "  </thead>\n",
       "  <tbody>\n",
       "    <tr>\n",
       "      <th>0</th>\n",
       "      <td>0.971291</td>\n",
       "      <td>0.503074</td>\n",
       "      <td>0.141198</td>\n",
       "      <td>0.430263</td>\n",
       "      <td>0.709765</td>\n",
       "    </tr>\n",
       "    <tr>\n",
       "      <th>1</th>\n",
       "      <td>0.616227</td>\n",
       "      <td>0.988850</td>\n",
       "      <td>0.007883</td>\n",
       "      <td>0.036367</td>\n",
       "      <td>0.834979</td>\n",
       "    </tr>\n",
       "    <tr>\n",
       "      <th>2</th>\n",
       "      <td>0.787292</td>\n",
       "      <td>0.143131</td>\n",
       "      <td>0.002565</td>\n",
       "      <td>0.112432</td>\n",
       "      <td>0.354215</td>\n",
       "    </tr>\n",
       "    <tr>\n",
       "      <th>3</th>\n",
       "      <td>0.140859</td>\n",
       "      <td>0.044218</td>\n",
       "      <td>0.547700</td>\n",
       "      <td>0.964518</td>\n",
       "      <td>0.278548</td>\n",
       "    </tr>\n",
       "    <tr>\n",
       "      <th>4</th>\n",
       "      <td>0.261544</td>\n",
       "      <td>0.648514</td>\n",
       "      <td>0.524175</td>\n",
       "      <td>0.277808</td>\n",
       "      <td>0.807929</td>\n",
       "    </tr>\n",
       "  </tbody>\n",
       "</table>\n",
       "</div>"
      ],
      "text/plain": [
       "            col0      col1      col2      col3      col4\n",
       "my-idx                                                  \n",
       "0       0.971291  0.503074  0.141198  0.430263  0.709765\n",
       "1       0.616227  0.988850  0.007883  0.036367  0.834979\n",
       "2       0.787292  0.143131  0.002565  0.112432  0.354215\n",
       "3       0.140859  0.044218  0.547700  0.964518  0.278548\n",
       "4       0.261544  0.648514  0.524175  0.277808  0.807929"
      ]
     },
     "execution_count": 8,
     "metadata": {},
     "output_type": "execute_result"
    }
   ],
   "source": [
    "df.head()"
   ]
  },
  {
   "cell_type": "code",
   "execution_count": 9,
   "metadata": {},
   "outputs": [
    {
     "data": {
      "text/plain": [
       "RangeIndex(start=0, stop=20, step=1, name='my-idx')"
      ]
     },
     "execution_count": 9,
     "metadata": {},
     "output_type": "execute_result"
    }
   ],
   "source": [
    "df.index"
   ]
  },
  {
   "cell_type": "code",
   "execution_count": 10,
   "metadata": {},
   "outputs": [
    {
     "data": {
      "text/plain": [
       "Index(['col0', 'col1', 'col2', 'col3', 'col4'], dtype='object')"
      ]
     },
     "execution_count": 10,
     "metadata": {},
     "output_type": "execute_result"
    }
   ],
   "source": [
    "df.columns"
   ]
  },
  {
   "cell_type": "code",
   "execution_count": 11,
   "metadata": {},
   "outputs": [
    {
     "data": {
      "text/plain": [
       "my-idx\n",
       "0     0.971291\n",
       "1     0.616227\n",
       "2     0.787292\n",
       "3     0.140859\n",
       "4     0.261544\n",
       "5     0.353734\n",
       "6     0.205715\n",
       "7     0.689784\n",
       "8     0.110261\n",
       "9     0.828819\n",
       "10    0.782939\n",
       "11    0.521023\n",
       "12    0.766830\n",
       "13    0.628227\n",
       "14    0.143081\n",
       "15    0.405051\n",
       "16    0.895820\n",
       "17    0.131981\n",
       "18    0.396582\n",
       "19    0.400121\n",
       "Name: col0, dtype: float64"
      ]
     },
     "execution_count": 11,
     "metadata": {},
     "output_type": "execute_result"
    }
   ],
   "source": [
    "df['col0']"
   ]
  },
  {
   "cell_type": "code",
   "execution_count": 12,
   "metadata": {},
   "outputs": [
    {
     "data": {
      "text/html": [
       "<div>\n",
       "<style scoped>\n",
       "    .dataframe tbody tr th:only-of-type {\n",
       "        vertical-align: middle;\n",
       "    }\n",
       "\n",
       "    .dataframe tbody tr th {\n",
       "        vertical-align: top;\n",
       "    }\n",
       "\n",
       "    .dataframe thead th {\n",
       "        text-align: right;\n",
       "    }\n",
       "</style>\n",
       "<table border=\"1\" class=\"dataframe\">\n",
       "  <thead>\n",
       "    <tr style=\"text-align: right;\">\n",
       "      <th></th>\n",
       "      <th>col0</th>\n",
       "      <th>col3</th>\n",
       "    </tr>\n",
       "    <tr>\n",
       "      <th>my-idx</th>\n",
       "      <th></th>\n",
       "      <th></th>\n",
       "    </tr>\n",
       "  </thead>\n",
       "  <tbody>\n",
       "    <tr>\n",
       "      <th>0</th>\n",
       "      <td>0.971291</td>\n",
       "      <td>0.430263</td>\n",
       "    </tr>\n",
       "    <tr>\n",
       "      <th>1</th>\n",
       "      <td>0.616227</td>\n",
       "      <td>0.036367</td>\n",
       "    </tr>\n",
       "    <tr>\n",
       "      <th>2</th>\n",
       "      <td>0.787292</td>\n",
       "      <td>0.112432</td>\n",
       "    </tr>\n",
       "    <tr>\n",
       "      <th>3</th>\n",
       "      <td>0.140859</td>\n",
       "      <td>0.964518</td>\n",
       "    </tr>\n",
       "    <tr>\n",
       "      <th>4</th>\n",
       "      <td>0.261544</td>\n",
       "      <td>0.277808</td>\n",
       "    </tr>\n",
       "  </tbody>\n",
       "</table>\n",
       "</div>"
      ],
      "text/plain": [
       "            col0      col3\n",
       "my-idx                    \n",
       "0       0.971291  0.430263\n",
       "1       0.616227  0.036367\n",
       "2       0.787292  0.112432\n",
       "3       0.140859  0.964518\n",
       "4       0.261544  0.277808"
      ]
     },
     "execution_count": 12,
     "metadata": {},
     "output_type": "execute_result"
    }
   ],
   "source": [
    "df[['col0','col3']].head()"
   ]
  },
  {
   "cell_type": "markdown",
   "metadata": {
    "slideshow": {
     "slide_type": "fragment"
    }
   },
   "source": [
    "## Agenda\n",
    "* The basics of Pandas\n",
    "* Example: reading and analysing a CSV file\n",
    "* Example: Timeseries"
   ]
  },
  {
   "cell_type": "markdown",
   "metadata": {
    "slideshow": {
     "slide_type": "fragment"
    }
   },
   "source": [
    "## Objectives\n",
    "* "
   ]
  },
  {
   "cell_type": "markdown",
   "metadata": {
    "slideshow": {
     "slide_type": "slide"
    }
   },
   "source": [
    "## Links\n",
    "### Create slides using Jupyter Notebook\n",
    "https://medium.com/learning-machine-learning/present-your-data-science-projects-with-jupyter-slides-75f20735eb0f"
   ]
  }
 ],
 "metadata": {
  "celltoolbar": "Slideshow",
  "kernelspec": {
   "display_name": "Python 3",
   "language": "python",
   "name": "python3"
  },
  "language_info": {
   "codemirror_mode": {
    "name": "ipython",
    "version": 3
   },
   "file_extension": ".py",
   "mimetype": "text/x-python",
   "name": "python",
   "nbconvert_exporter": "python",
   "pygments_lexer": "ipython3",
   "version": "3.6.8"
  }
 },
 "nbformat": 4,
 "nbformat_minor": 2
}
